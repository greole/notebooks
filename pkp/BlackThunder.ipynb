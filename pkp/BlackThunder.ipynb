{
 "metadata": {
  "name": "",
  "signature": "sha256:6be8a2d41eb02c8f580bc17d363633995567f6a6b492569624627d228536677e"
 },
 "nbformat": 3,
 "nbformat_minor": 0,
 "worksheets": [
  {
   "cells": [
    {
     "cell_type": "code",
     "collapsed": false,
     "input": [
      "from IPython.display import HTML\n",
      "\n",
      "HTML('''<script>\n",
      "code_show=false; \n",
      "function code_toggle() {\n",
      " if (code_show){\n",
      " $('div.input').hide();\n",
      " } else {\n",
      " $('div.input').show();\n",
      " }\n",
      " code_show = !code_show\n",
      "} \n",
      "$( document ).ready(code_toggle);\n",
      "</script>\n",
      "<form action=\"javascript:code_toggle()\"><input type=\"submit\" value=\"Click here to toggle on/off the raw code.\"></form>''')"
     ],
     "language": "python",
     "metadata": {},
     "outputs": [
      {
       "html": [
        "<script>\n",
        "code_show=false; \n",
        "function code_toggle() {\n",
        " if (code_show){\n",
        " $('div.input').hide();\n",
        " } else {\n",
        " $('div.input').show();\n",
        " }\n",
        " code_show = !code_show\n",
        "} \n",
        "$( document ).ready(code_toggle);\n",
        "</script>\n",
        "<form action=\"javascript:code_toggle()\"><input type=\"submit\" value=\"Click here to toggle on/off the raw code.\"></form>"
       ],
       "metadata": {},
       "output_type": "pyout",
       "prompt_number": 1,
       "text": [
        "<IPython.core.display.HTML at 0x7f137c5512d0>"
       ]
      }
     ],
     "prompt_number": 1
    },
    {
     "cell_type": "code",
     "collapsed": false,
     "input": [
      "from IPython.display import HTML\n",
      "js = r\"\"\" <script type=\"text/Javascript\"> MathJax.Hub.Config({ TeX: { equationNumbers: { autoNumber: \"AMS\", useLabelIds: true } }});\n",
      "</script>\"\"\"\n",
      "HTML(js)"
     ],
     "language": "python",
     "metadata": {},
     "outputs": [
      {
       "html": [
        " <script type=\"text/Javascript\"> MathJax.Hub.Config({ TeX: { equationNumbers: { autoNumber: \"AMS\", useLabelIds: true } }});\n",
        "</script>"
       ],
       "metadata": {},
       "output_type": "pyout",
       "prompt_number": 10,
       "text": [
        "<IPython.core.display.HTML at 0x7fb5402a04d0>"
       ]
      }
     ],
     "prompt_number": 10
    },
    {
     "cell_type": "code",
     "collapsed": false,
     "input": [
      "%%javascript\n",
      "\n",
      "alert(\"foo\")"
     ],
     "language": "python",
     "metadata": {},
     "outputs": [
      {
       "javascript": [
        "\n",
        "alert(\"foo\")"
       ],
       "metadata": {},
       "output_type": "display_data",
       "text": [
        "<IPython.core.display.Javascript at 0x7fb5402a0ad0>"
       ]
      }
     ],
     "prompt_number": 16
    },
    {
     "cell_type": "code",
     "collapsed": false,
     "input": [
      "import pkp\n",
      "import numpy as np\n",
      "%pylab inline"
     ],
     "language": "python",
     "metadata": {},
     "outputs": [
      {
       "output_type": "stream",
       "stream": "stdout",
       "text": [
        "Populating the interactive namespace from numpy and matplotlib\n"
       ]
      }
     ],
     "prompt_number": 2
    },
    {
     "cell_type": "code",
     "collapsed": false,
     "input": [
      "import time\n",
      "print \"last modifaction: \", time.strftime(\"%d/%m/%Y at %H:%M:%S\")"
     ],
     "language": "python",
     "metadata": {},
     "outputs": [
      {
       "output_type": "stream",
       "stream": "stdout",
       "text": [
        "last modifaction:  19/05/2015 at 12:03:40\n"
       ]
      }
     ],
     "prompt_number": 3
    },
    {
     "cell_type": "markdown",
     "metadata": {},
     "source": [
      "# Pyrolysis behaviour estimation of Black Thunder Coal\n",
      "\n",
      "## Introduction\n",
      "\n",
      "The present document describes how input data for CFD simulations of pulverised coal combustion of black thunder coal is generated employing [PKP]() and [CPD](). At first the temperature profile for a single coal particle is estimated by integrating the particle temperature equation. The temperature profile serves as input data for the CPD preprocessor. The CPD preprocessor computes the evolution of individual volatile species and the total yield over time. In the next step the final yield is split up to prescribe species (** CH4, C2H2, CO ?** ) and the enthalpy of devolatilisation is computed to conserve the energy balance."
     ]
    },
    {
     "cell_type": "markdown",
     "metadata": {},
     "source": [
      "## Uncertainties\n",
      "\n",
      "The following values are taken as estimates and should be updated or confirmed.\n",
      "\n",
      "* **Temperature profile**: So far the computations are based on the temperature profiles given in [Liu et al. (2011)](dx.doi.org/10.1016/j.ijggc.2011.05.028) Fig. 1 **Please tell me if there is a more appropriate  profile**\n",
      "* **HHV, cp, density of the black thunder coal **: In [Liu et al. (2011)](dx.doi.org/10.1016/j.ijggc.2011.05.028) no values for the forementioned quantities are given and are estimated based on the mentioned sources.\n",
      "\n",
      "* **Emissity of coal and furnace wall temperature **: Particle heat up is strongly influenced by these two parameters and should be set with great care."
     ]
    },
    {
     "cell_type": "markdown",
     "metadata": {},
     "source": [
      "## Definition Coal Properties\n",
      "\n",
      "Coal properties are definied according to [Liu et al. (2011)](dx.doi.org/10.1016/j.ijggc.2011.05.028) table 1, Black Thunder coal. In absence of a given HHV the HHV is approximated to be 20.27 [MJ/kg] from [Sarv el. al](http://www.babcock.com/library/Documents/BR-1825.pdf). However the coal composition given in Sarv et al paper differs strongly from Liu et al. but is similar to the vendors [data](http://www.archcoal.com/customers/ACI_product_guide_2013.pdf)"
     ]
    },
    {
     "cell_type": "code",
     "collapsed": false,
     "input": [
      "ultimate_analysis = {\"Carbon\": 60.9, \"Hydrogen\": 5.2, \"Nitrogen\": 0.9, \"Oxygen\": 27.6, \"Sulphur\": 0.4} # DAF\n",
      "\n",
      "proximate_analysis = {\"Fixed Carbon\": 43.8, \"Moisture\": 10.8, \"Volatile Matter\": 40.4,  \"Ash\": 5.0} # As recieved"
     ],
     "language": "python",
     "metadata": {},
     "outputs": [],
     "prompt_number": 4
    },
    {
     "cell_type": "code",
     "collapsed": false,
     "input": [
      "cpd_params = {'fit': 'constantRate', 'active': 'True', 'deltaT': '1e-08', 'MW_TAR': '130'}\n",
      "input_dict = {'Coal': {\n",
      "        'Proximate Analysis': proximate_analysis, 'Ultimate Analysis': ultimate_analysis, 'hhv': 20270, 'MW_PS': 100},\n",
      "    'CPD': cpd_params, 'OperatingConditions': {}}"
     ],
     "language": "python",
     "metadata": {},
     "outputs": [],
     "prompt_number": 5
    },
    {
     "cell_type": "code",
     "collapsed": false,
     "input": [
      "from pkp.src.CoalThermoPhysics import PostulateSubstance, Coal\n",
      "coal = Coal(input_dict['Coal'])\n",
      "\n",
      "def plt_pie(ax, a):\n",
      "    ua = zip(*[(label, value) for label, value in a.iteritems()])\n",
      "    ax.pie(ua[1], labels=ua[0])\n",
      "    \n",
      "def plt_bar(a, label_, pattern, offs=0.0):\n",
      "    bar = 0.50\n",
      "    ua = zip(*[(label, value) for label, value in a.iteritems()])\n",
      "    index = np.arange(len(ua[0]))\n",
      "    plt.bar(index+offs, ua[1], bar, label=label_, hatch=pattern, color=\"None\")\n",
      "    plt.xticks(index+bar, ua[0])\n",
      "    plt.legend(loc=\"upper left\")\n",
      "\n",
      "f, ax = plt.subplots(1,3)    \n",
      "plt_pie(ax[0], coal.pa_daf)\n",
      "plt_pie(ax[1], coal.ua)\n",
      "plt_pie(ax[2], coal.ua_vm)"
     ],
     "language": "python",
     "metadata": {},
     "outputs": [
      {
       "metadata": {},
       "output_type": "display_data",
       "png": "[encoded data removed]",
       "text": [
        "<matplotlib.figure.Figure at 0x7f1364326450>"
       ]
      }
     ],
     "prompt_number": 6
    },
    {
     "cell_type": "markdown",
     "metadata": {},
     "source": [
      "# Heating Rate Approximation\n",
      "\n",
      "To set the operating conditions for the CPD pre-processor we need the temperature profile of the coal particle. Since only gas phase temperature profiles are given in Liu et al. the particle heat up is approximated by the particle temperature equation \n",
      "\n",
      "\\begin{align}\n",
      "\\frac{dT_p}{dt}=\\frac{-3}{C_p\\rho_pr_p}\\left[\\epsilon\\sigma\n",
      "(T^4_p-T^4_w) + h(T_p-T_g)\\right]\n",
      "\\label{ParticleTempEqn}\n",
      "\\end{align}\n",
      "\n",
      "where subscripts p, g and w denote particle, gas phase and wall properties respectivly. The coal density $\\rho_p$ is assumed to be $ 1300~ \\left[kg/m^3\\right]$ (**confirm!**) based on this [data](http://www.ogj.com/articles/print/volume-97/issue-17/in-this-issue/general-interest/study-quantifies-powder-river-coal-seam-properties.html). The heat capacity is set to $1.2~ \\left[kJ/kgK\\right]$ The heat transfer coefficient $h=Nu\\lambda_g/d_p$ depends on the gas phase heat conductivity $\\lambda_g$. For simplicity we set a (so far) constant  value based on [thermal conductivity](http://www.engineeringtoolbox.com/dry-air-properties-d_973.html) at $1200\\left[K\\right]$, which is used as wall temperature too. "
     ]
    },
    {
     "cell_type": "code",
     "collapsed": false,
     "input": [
      "# PLEASE DOUBLE CHECK \n",
      "props = {'Cp': 1.2,      # Find approx. value [kJ/kgK]\n",
      "    'lambda': 7.640e-05, # Find value, function of composition [kW/mK]\n",
      "    'epsilon': 0,        # black body\n",
      "    'sigma': 5.6e-8, 'rho': 1300.0, 'T_wall': 1200,\n",
      "    'diam': 75e-6, 'Nu': 2.0}"
     ],
     "language": "python",
     "metadata": {},
     "outputs": [],
     "prompt_number": 7
    },
    {
     "cell_type": "code",
     "collapsed": false,
     "input": [
      "# Digitized Gasphase Data from [Liu et al. (2011)] Fig 1.\n",
      "T_low = [400.0, 964.87, 1163.90, 1218.04, 1230.48, 1235.60, 1236.34, 1234.87, 1232.68, 1226.82, 1222.43,\n",
      "         1216.58, 1210.73, 1204.87, 1196.82, 1190.24, 1182.92, 1172.68, 1164.63, 1159.51]\n",
      "T_high = [400.0, 964.146341463, 1264.14, 1315.36, 1324.14, 1325.60, 1324.87, 1324.87, 1321.21, 1315.36,\n",
      "          1310.24, 1303.65, 1295.60, 1289.02, 1278.78, 1270.00, 1259.75, 1250.24, 1239.26, 1226.09]\n",
      "# Sample location distance is 0.025m from that we can compute the corresponding times\n",
      "# assuming a constant particle velocitiy of 2.5 m/s\n",
      "pos = [0.025 * x for x,_ in enumerate(T_low)]\n",
      "time = [0.025/2.5 * x for x,_ in enumerate(T_low)]"
     ],
     "language": "python",
     "metadata": {},
     "outputs": [],
     "prompt_number": 8
    },
    {
     "cell_type": "code",
     "collapsed": false,
     "input": [
      "# Particle Temperature Equation and Explicit Time Integration\n",
      "def computeParticleTemperature(props, time, T_start=300, dt=1e-4):\n",
      "    def updateTg(T_old, T_gas, dt, props):\n",
      "        return T_old + dTdt(T_gas, T_old, props)*dt\n",
      "\n",
      "    def dTdt(gas_temp, particle_temp, props):\n",
      "        T4diff = (particle_temp**4.0  - props['T_wall']**4.0) * props['sigma'] * props['epsilon']\n",
      "        h = props['Nu']*props['lambda']/props['diam']\n",
      "        Tdiff = (particle_temp - gas_temp)\n",
      "        a = -3/(props['Cp']*props['rho']*props['diam']/2)\n",
      "        return  a * (T4diff + h*Tdiff)\n",
      "    \n",
      "    Temps, Times = [T_start], [0]\n",
      "    for i in range(2000):\n",
      "        time_ = dt*(i+1) # current time\n",
      "        T = np.interp(time_, time, T_high) # interpolate temperature\n",
      "        T_start = updateTg(T_start, T, dt, props) # update temperature\n",
      "        Temps.append(T_start)\n",
      "        Times.append(time_)\n",
      "    return Times, Temps\n",
      "\n",
      "def compute_and_plot(ax, props, label, exp=True):\n",
      "    Times, Temps = computeParticleTemperature(props, time)\n",
      "    ax.plot(Times, Temps, label=label)\n",
      "    ax.get_xaxis().get_label().set_text('Time [s]')\n",
      "    ax.get_yaxis().get_label().set_text('Temperature [K]')\n",
      "    if exp:\n",
      "        ax.plot(time, T_high, label=\"Gas Phase Exp\")\n",
      "    ax.legend(loc='lower right')"
     ],
     "language": "python",
     "metadata": {},
     "outputs": [],
     "prompt_number": 9
    },
    {
     "cell_type": "code",
     "collapsed": false,
     "input": [
      "from copy import deepcopy\n",
      "props_orig =  deepcopy(props)"
     ],
     "language": "python",
     "metadata": {},
     "outputs": [],
     "prompt_number": 10
    },
    {
     "cell_type": "code",
     "collapsed": false,
     "input": [
      "f, ax = plt.subplots(1,1)\n",
      "f.set_figwidth(7.5)\n",
      "compute_and_plot(ax,props_orig, \"Particle\")"
     ],
     "language": "python",
     "metadata": {},
     "outputs": [
      {
       "metadata": {},
       "output_type": "display_data",
       "png": "[encoded data removed]",
       "text": [
        "<matplotlib.figure.Figure at 0x7f135c3742d0>"
       ]
      }
     ],
     "prompt_number": 14
    },
    {
     "cell_type": "markdown",
     "metadata": {},
     "source": [
      "#### Sensitivity Study Particle Heat up\n",
      "The particle temperature profile depends strongly on the emissity (so far we neglected radiation), wall temperature, particle diameter and the gas phase conductivity. Based on the previous parameter set we vary the input parameters to study the effect on the particle temperature"
     ]
    },
    {
     "cell_type": "code",
     "collapsed": false,
     "input": [
      "f, ax = plt.subplots(1,2)\n",
      "f.set_figwidth(15)\n",
      "props['epsilon'] = 0\n",
      "compute_and_plot(ax[0],props, \"Particle STD\")\n",
      "for e in [0.1, 0.01]:\n",
      "    props['epsilon'] = e\n",
      "    compute_and_plot(ax[0],props, \"epsilon={}\".format(e), exp=False)\n",
      "    \n",
      "props['diam'] = 75e-6\n",
      "props['epsilon'] = 0\n",
      "compute_and_plot(ax[1], props, \"Particle STD\")\n",
      "for d in [100e-6, 150e-6]:\n",
      "    props['diam'] = d\n",
      "    compute_and_plot(ax[1], props, \"d={} m\".format(d), exp=False)"
     ],
     "language": "python",
     "metadata": {},
     "outputs": [
      {
       "metadata": {},
       "output_type": "display_data",
       "png": "[encoded data removed]",
       "text": [
        "<matplotlib.figure.Figure at 0x7f135c173e90>"
       ]
      }
     ],
     "prompt_number": 15
    },
    {
     "cell_type": "markdown",
     "metadata": {},
     "source": [
      "It can be seen that $\\epsilon$ has two major effects, when radiation is considered the initial heat up is enhanced. However the maximum particle temperature is bound to the wall temperature."
     ]
    },
    {
     "cell_type": "markdown",
     "metadata": {},
     "source": [
      "**TODO:** Check influence of different particle temperature profiles on CPD results"
     ]
    },
    {
     "cell_type": "code",
     "collapsed": false,
     "input": [
      "Times, Temps = computeParticleTemperature(props_orig, time)\n",
      "input_dict['OperatingConditions'] = {'run0': zip(Times, Temps)[0:-1:50], 'pressure': 1.0, 'runs': 1}"
     ],
     "language": "python",
     "metadata": {},
     "outputs": [],
     "prompt_number": 16
    },
    {
     "cell_type": "markdown",
     "metadata": {},
     "source": [
      "# Run CPD Preprocessor\n",
      "\n",
      "Based on the original parameters set the CPD preprocessor is started"
     ]
    },
    {
     "cell_type": "code",
     "collapsed": false,
     "input": [
      "cpd = pkp.generate(json_string=input_dict)\n",
      "res = [(species_name, data) for species_name, data in cpd['run0'][1].iterspecies()]\n",
      "print \"Qfactor: \", cpd['run0'][1].qFactor"
     ],
     "language": "python",
     "metadata": {},
     "outputs": [
      {
       "output_type": "stream",
       "stream": "stdout",
       "text": [
        "Running CPD: 0\n",
        "/usr/local/lib/python2.7/dist-packages/pkp-1.0.0-py2.7.egg/pkp/bins/cpdnlg < /root/.pkp/CPD/IN.dat > /root/.pkp/CPD/Results/Run0/CPD_0_output.log\n",
        "Qfactor: "
       ]
      },
      {
       "output_type": "stream",
       "stream": "stdout",
       "text": [
        " 1.07646782178\n"
       ]
      }
     ],
     "prompt_number": 17
    },
    {
     "cell_type": "code",
     "collapsed": false,
     "input": [
      "#f,ax = plt.subplots(1,2)\n",
      "for name, data in res:\n",
      "    plt.plot(cpd['run0'][1]['time']*1000, data, label=name)\n",
      "    plt.title = \"Species Massfractions\"\n",
      "    plt.legend(loc='center left', bbox_to_anchor=(1, 0.5))\n",
      "    plt.xlabel('Time [s]')\n",
      "    plt.ylabel('Temperature [K]')"
     ],
     "language": "python",
     "metadata": {},
     "outputs": [
      {
       "metadata": {},
       "output_type": "display_data",
       "png": "[encoded data removed]",
       "text": [
        "<matplotlib.figure.Figure at 0x7f1359c2eb10>"
       ]
      }
     ],
     "prompt_number": 18
    },
    {
     "cell_type": "markdown",
     "metadata": {},
     "source": [
      "At this point we have the released massfraction for the light gases (CO, CO2, CH4, H2O). Combined with *fother* they add up to *fgas*. Adding *fgas* and *ftar* results in *ftot*. "
     ]
    },
    {
     "cell_type": "markdown",
     "metadata": {},
     "source": [
      "# Selection of the Volatile Species\n",
      "\n",
      "Eventough CPD predicts the release for a number of species, typically the CPD results are mapped to a different set of volatile species for a CFD simulation, where common choices are the postulate substance approach or a mixture of prescribed species. \n",
      "\n",
      "The postulate substance approach reduces the number of additional volatile species to a single species. As consequence the computational costs are comparatively small. A draw back of  using a single postulate substance is that no detailed chemistry mechanism can be used. \n",
      "\n",
      "The second approach is to map either the full volatile yield from the CPD result to a set of prescribed species (i.e. CH4, CO, C2H2, etc.) or to map only the yield of *TAR* and *other*. Independent from the chosen approach the mapped volatile yield should have the same elementary composition as the CPD result and should additionally be conservative in the heat release. \n",
      "\n",
      " \n",
      "\\begin{align}\n",
      "f_{tot} = \\sum_{species} f_{species}'\n",
      "\\end{align}\n",
      "\n",
      "or \n",
      "\n",
      "\\begin{align}\n",
      "f_{tar} + f_{other} = \\sum_{species} f_{species}'\n",
      "\\end{align}"
     ]
    },
    {
     "cell_type": "markdown",
     "metadata": {},
     "source": [
      "To compute the massfractions of the prescribed species $f_{species}'$ we demand that the elementary composition given by the CPD result is conserved.\n",
      "\n",
      "\\begin{align}\n",
      "\\sum_i f_{i} = \\sum_i \\sum_{species} f_{species} \\nu MW_i/MW_{species}\n",
      "\\label{CompositionalBalanceEquation}\n",
      "\\end{align}\n",
      "\n",
      "where $i$ is the index of the individual elements Carbon, Oxygen, Hydrogen and Nitrogen. \n",
      "The set of algebraic equations in Eqn. \\ref{CompositionalBalanceEquation} is not guaranteed to be solveable and poses a typical optimisation problem."
     ]
    },
    {
     "cell_type": "markdown",
     "metadata": {},
     "source": [
      "### Definition of the Error Function for the Optimisation Procedure\n",
      "\n",
      "To solve the optimisation problem from Eqn. \\ref{CompositionalBalanceEquation} we need to quantify the remaining error for a chosen solution. \n",
      "\n",
      "\\begin{align}\n",
      " \\epsilon = \\sum_i \\left|\\left(f_i - f'_{i} \\right)  / f_i\\right|\n",
      "\\end{align}\n",
      "\n",
      "where $\\epsilon$ is the error, $f_i$ the target mass fraction of the element $i$ obtained by the CPD preprocessor and $f'_i$ \n",
      "\n",
      "\\begin{align} \n",
      "a = \\sum_{species} f_{species}*\\nu*MW_i/MW_{species}\n",
      "\\end{align}"
     ]
    },
    {
     "cell_type": "markdown",
     "metadata": {},
     "source": [
      "#### Influence of the Q-factor\n",
      "\n",
      "We assume that oxygen and hydrogen is fully consumed during pyrolysis and the remaining char consists only of carbon and ash. The ratio between the carbon in the volatile yield and the left over coal depends on the temperature profile during pyrolysis. Considering the CPD results we can estimate the ratio between released volatile yield $m_{VM}$ and the estimated volatile yield from the proximate analysis $m_{VM,PA}$\n",
      "\n",
      "\\begin{align}\n",
      "q = \\frac{m_{VM}}{m_{VM,PA}}\n",
      "\\end{align}\n",
      "\n",
      "where $q$ is usually refered to as *q-factor*. Since the total mass of oxygen and hydrogen in the volatile yield is fixed the q-factor determines the amount of carbon in the volatile yield. The total mass of carbon $m_C$, which is constant is the the sum of the fixed carbon remaining as char $m_{FC}$ and the carbon released with the volatiles $m_{VC}$\n",
      "\n",
      "\\begin{align}\n",
      "m_C = m_{FC} + m_{VC}\n",
      "\\end{align}\n",
      "\n",
      "The volatile yield from Eq. 1 can be replace by the sum of components $m_{VM} = m_{VC} + m_O + m_H$ and $m_{VM,PA} = m_{VC,PA} + m_{O,PA} + m_{H,PA}$, where the subscripts denotes value based on the proximate analysis.\n",
      "\n",
      "\\begin{align}\n",
      "m_{VC} + m_O + m_H = q\\left(m_{VC,PA} + m_{O,PA} + m_{H,PA}\\right)\n",
      "\\end{align}\n",
      "\n",
      "Equation 3. can be simplified since $m_O = m_{O,PA}$ and $m_H =  m_{H,PA}$\n",
      "\\begin{align}\n",
      "m_{VC} = qm_{VC,PA} + (q-1)(m_{O,PA} + m_{H,PA})\n",
      "\\end{align}\n",
      "\n",
      "Equation 4. can be further simplified by replacing $m_{O,PA} + m_{H,PA}$ by $m_{VM,PA}-m_{VC,PA}$  and $m_{VC,PA}$ as $m_{C} - m_{FC,PA}$ giving\n",
      "\n",
      "\\begin{align}\n",
      "m_{VC}  = m_{C} - m_{FC,PA} + m_{VM,PA}(q-1)\n",
      "\\end{align}\n",
      "\n",
      "Equation 5. determines the carbon mass released as volatiles as a function of the q-factor, necessary to solve the system of linear algebraic equations. "
     ]
    },
    {
     "cell_type": "markdown",
     "metadata": {},
     "source": [
      "### Results of q-factor depend mass distribution\n",
      "\n",
      "For the current parameter set the CPD coal pre-processor predicts a q-factor of"
     ]
    },
    {
     "cell_type": "code",
     "collapsed": false,
     "input": [
      "print cpd['run0'][1].qFactor"
     ],
     "language": "python",
     "metadata": {},
     "outputs": [
      {
       "output_type": "stream",
       "stream": "stdout",
       "text": [
        "1.07646782178\n"
       ]
      }
     ],
     "prompt_number": 19
    },
    {
     "cell_type": "markdown",
     "metadata": {},
     "source": [
      "Which gives the following elementary composition by mass for the volatile yield"
     ]
    },
    {
     "cell_type": "code",
     "collapsed": false,
     "input": [
      "from pkp.src.CoalThermoPhysics import PostulateSubstance, Coal\n",
      "from pkp.src.PreProc import ManualQfactor\n",
      "\n",
      "post_subs_cpd = PostulateSubstance(ManualQfactor(Coal(input_dict['Coal']), qFactor=cpd['run0'][1].qFactor))\n",
      "print post_subs_cpd.VolatileCompositionMass"
     ],
     "language": "python",
     "metadata": {},
     "outputs": [
      {
       "output_type": "stream",
       "stream": "stdout",
       "text": [
        "{'Carbon': 28.382266681350462, 'Hydrogen': 11.050807515043845, 'Nitrogen': 1.9126397622191269, 'Oxygen': 58.654286041386555}\n"
       ]
      }
     ],
     "prompt_number": 20
    },
    {
     "cell_type": "code",
     "collapsed": false,
     "input": [
      "post_subs_pa = PostulateSubstance(ManualQfactor(Coal(input_dict['Coal']), qFactor=1.0))\n",
      "\n",
      "#f, ax = plt.subplots(1,2)    \n",
      "#ax[0].bar(post_subs_pa.VolatileCompositionMass)\n",
      "plt_bar(post_subs_cpd.VolatileCompositionMass, \"CPD\", 'x' )\n",
      "plt_bar(post_subs_pa.VolatileCompositionMass, \"q=1.0\", '/', 0.5)\n",
      "#plt.tight_layout()"
     ],
     "language": "python",
     "metadata": {},
     "outputs": [
      {
       "metadata": {},
       "output_type": "display_data",
       "png": "[encoded data removed]",
       "text": [
        "<matplotlib.figure.Figure at 0x7f1359489a50>"
       ]
      }
     ],
     "prompt_number": 21
    },
    {
     "cell_type": "markdown",
     "metadata": {},
     "source": [
      "The following figure demonstrates the depency of the final (when all volatiles have been released) volatile yield on the q-factor. It can be seen that increasing the q-factor leads to an increase in the Carbon content of the volatile yield, since the increase in the volatile yield can only originate from an increase in Carbon content. Hence the mass fractions of Hydrogen and Oxygen decrease since the relative amount decreases."
     ]
    },
    {
     "cell_type": "code",
     "collapsed": false,
     "input": [
      "qsteps = 100\n",
      "qMax = 2.0\n",
      "deltaQ = (qMax-1.0)/float(qsteps)\n",
      "\n",
      "post_subs_q = [PostulateSubstance(ManualQfactor(Coal(input_dict['Coal']), qFactor=1+q*deltaQ)).VolatileCompositionMass \n",
      "               for q in range(qsteps)]\n",
      "\n",
      "for spec in ['Carbon', 'Hydrogen', 'Oxygen']:\n",
      "    q = [1+q*deltaQ for q in range(qsteps)]\n",
      "    elm = [_[spec] for _ in post_subs_q]\n",
      "    plt.plot(q, elm, label=spec)\n",
      "    plt.xlabel('q-factor [-]')\n",
      "    plt.ylabel('Mass Fraction [%]')\n",
      "    plt.ylim([0,80])\n",
      "    plt.legend()"
     ],
     "language": "python",
     "metadata": {},
     "outputs": [
      {
       "metadata": {},
       "output_type": "display_data",
       "png": "[encoded data removed]",
       "text": [
        "<matplotlib.figure.Figure at 0x7f1359475d90>"
       ]
      }
     ],
     "prompt_number": 22
    },
    {
     "cell_type": "markdown",
     "metadata": {},
     "source": [
      "### Validation Example\n",
      "\n",
      "**TODO:** Probably unnecessary and should be implemented as test\n",
      "\n",
      "Consider a mixture of 1 mol *CO* and *OH* that has corresponding mass fraction of $f_{CO}=28.0/45.0$ and $f_{OH}=17/45.0$. The elemental mass fractions are $f_C=12.0/45.0$, $f_O=32.0/45.0$ and $f_H=1.0/45.0$ for *C*, *O* and *H* respectivly. Starting from the correct solution the error is computed and displayed in the following figure.\n",
      "\n"
     ]
    },
    {
     "cell_type": "code",
     "collapsed": false,
     "input": [],
     "language": "python",
     "metadata": {},
     "outputs": []
    },
    {
     "cell_type": "code",
     "collapsed": false,
     "input": [
      "from pkp.src.CoalThermoPhysics import CO, OH, N2, H2, Yield\n",
      "from scipy.optimize import brute, minimize\n",
      "\n",
      "pyrol_yield= Yield(cpd['run0'][1], [CO, OH, N2, H2])\n",
      "cons = ({'type': 'eq', 'fun': lambda x:  1 - sum(x)})\n",
      "optimizer = lambda : minimize(pyrol_yield.error_func, [0,0,0,0], tol=1e-32, constraints=cons).x\n",
      "pyrol_yield.fit_composition(optimizer)"
     ],
     "language": "python",
     "metadata": {},
     "outputs": [
      {
       "metadata": {},
       "output_type": "pyout",
       "prompt_number": 30,
       "text": [
        "{'CO': 0.66188268228710978,\n",
        " 'H2': 0.097367080025245578,\n",
        " 'N2': 0.019126392271313453,\n",
        " 'OH': 0.22162384541633132}"
       ]
      }
     ],
     "prompt_number": 30
    },
    {
     "cell_type": "code",
     "collapsed": false,
     "input": [
      "#a = np.arange(-1.0,1.1,0.1)\n",
      "#help(np.mgrid)#[a*2]\n",
      "#mgrid[0:5,0:5]\n",
      "#mat = [[error_([12.0/45.0, 32.0/45.0, 1.0/45.0], [[12.0/28.0, 0.0], [16.0/28.0, 16.0/17.0], [0.0,1.0/17.0]], [i+28.0/45.0,j+17.0/45.0]) \n",
      "#       for i in a] for j in a] \n",
      "#fig = plt.figure()\n",
      "#ax = fig.add_subplot(1,1,1)\n",
      "#surf = ax.imshow(mat, interpolation='none', extent=[-1,1,-1,1])\n",
      "#surf.set_cmap('spectral')\n",
      "#plt.colorbar()\n",
      "#plt.show()"
     ],
     "language": "python",
     "metadata": {},
     "outputs": [],
     "prompt_number": 25
    },
    {
     "cell_type": "markdown",
     "metadata": {},
     "source": [
      "##Distribution of Enthalpies\n",
      "$LHV = HHV - h_{v}$\n",
      "\n",
      "$HHV = \\sum H_{products} - \\sum H_{reactants}  + h_{devol}$\n",
      "\n",
      "were the reactants are found using the CPD approximation. The reactants however contain TAR for which the enthalpy of formation is unknown. Therefore  \n",
      "\n"
     ]
    },
    {
     "cell_type": "markdown",
     "metadata": {},
     "source": [
      "## Influence of emissivity on CPD Results"
     ]
    },
    {
     "cell_type": "code",
     "collapsed": false,
     "input": [
      "import IPython as ip"
     ],
     "language": "python",
     "metadata": {},
     "outputs": [],
     "prompt_number": 1
    },
    {
     "cell_type": "code",
     "collapsed": false,
     "input": [
      "dir(ip.utils)"
     ],
     "language": "python",
     "metadata": {},
     "outputs": [
      {
       "metadata": {},
       "output_type": "pyout",
       "prompt_number": 3,
       "text": [
        "['PyColorize',\n",
        " '__builtins__',\n",
        " '__doc__',\n",
        " '__file__',\n",
        " '__name__',\n",
        " '__package__',\n",
        " '__path__',\n",
        " '_process_common',\n",
        " '_process_posix',\n",
        " '_sysinfo',\n",
        " '_tokenize_py2',\n",
        " 'capture',\n",
        " 'codeutil',\n",
        " 'coloransi',\n",
        " 'contexts',\n",
        " 'data',\n",
        " 'decorators',\n",
        " 'dir2',\n",
        " 'encoding',\n",
        " 'frame',\n",
        " 'generics',\n",
        " 'importstring',\n",
        " 'io',\n",
        " 'ipstruct',\n",
        " 'jsonutil',\n",
        " 'localinterfaces',\n",
        " 'module_paths',\n",
        " 'openpy',\n",
        " 'path',\n",
        " 'pickleshare',\n",
        " 'pickleutil',\n",
        " 'process',\n",
        " 'py3compat',\n",
        " 'rlineimpl',\n",
        " 'strdispatch',\n",
        " 'sysinfo',\n",
        " 'syspathcontext',\n",
        " 'tempdir',\n",
        " 'terminal',\n",
        " 'text',\n",
        " 'timing',\n",
        " 'tokenize2',\n",
        " 'traitlets',\n",
        " 'ulinecache',\n",
        " 'version',\n",
        " 'warn',\n",
        " 'wildcard',\n",
        " 'zmqrelated']"
       ]
      }
     ],
     "prompt_number": 3
    },
    {
     "cell_type": "markdown",
     "metadata": {},
     "source": [
      "\\mathtoolsset{showonlyrefs}"
     ]
    },
    {
     "cell_type": "markdown",
     "metadata": {},
     "source": [
      "\\usepackage{mathtools}"
     ]
    },
    {
     "cell_type": "code",
     "collapsed": false,
     "input": [
      "```latex\n",
      "\\usepackage[small]{eulervm}\n",
      "\\newcommand{\\vect}[1]{\\vec{#1}}\n",
      "\\newcommand{\\abs}[1]{\\lvert#1\\rvert|}\n",
      "\\let\\d\\relax  % \\d already defined and there is no \\RedeclareMathOperator\n",
      "\\DeclareMathOperator{\\d}{d}```"
     ],
     "language": "python",
     "metadata": {},
     "outputs": [
      {
       "ename": "SyntaxError",
       "evalue": "invalid syntax (<ipython-input-6-bf3e5215fbeb>, line 1)",
       "output_type": "pyerr",
       "traceback": [
        "\u001b[0;36m  File \u001b[0;32m\"<ipython-input-6-bf3e5215fbeb>\"\u001b[0;36m, line \u001b[0;32m1\u001b[0m\n\u001b[0;31m    ```latex\u001b[0m\n\u001b[0m            ^\u001b[0m\n\u001b[0;31mSyntaxError\u001b[0m\u001b[0;31m:\u001b[0m invalid syntax\n"
       ]
      }
     ],
     "prompt_number": 6
    },
    {
     "cell_type": "code",
     "collapsed": false,
     "input": [],
     "language": "python",
     "metadata": {},
     "outputs": []
    }
   ],
   "metadata": {}
  }
 ]
}