{
 "metadata": {
  "name": "",
  "signature": "sha256:a7da2b5a9f16570a7edff360acce63ae55ec8383ebe615f4412d447da8c87f6e"
 },
 "nbformat": 3,
 "nbformat_minor": 0,
 "worksheets": [
  {
   "cells": [
    {
     "cell_type": "code",
     "collapsed": false,
     "input": [
      "import pkp\n",
      "import numpy as np\n",
      "%pylab inline"
     ],
     "language": "python",
     "metadata": {},
     "outputs": [
      {
       "output_type": "stream",
       "stream": "stdout",
       "text": [
        "Populating the interactive namespace from numpy and matplotlib\n"
       ]
      }
     ],
     "prompt_number": 1
    },
    {
     "cell_type": "markdown",
     "metadata": {},
     "source": [
      "# Uncertainties\n",
      "\n",
      "* Temperature profile\n",
      "\n",
      "* HHV, cp, and density of the black thunder coal\n",
      "\n",
      "* emissity of coal\n",
      "\n",
      "* furnace wall temperature"
     ]
    },
    {
     "cell_type": "markdown",
     "metadata": {},
     "source": [
      "# Definition Coal Properties\n",
      "\n",
      "Coal properties are definied according to [Liu et al. (2011)](dx.doi.org/10.1016/j.ijggc.2011.05.028) table 1, Black Thunder coal. In absence of a given hhv the hhv is approximated to be 20.27 [MJ/kg] from [Sarv el. al](http://www.babcock.com/library/Documents/BR-1825.pdf). However the coal composition given in Sarv et al paper differs strongly from Liu et al. but is similar to the vendors [data](http://www.archcoal.com/customers/ACI_product_guide_2013.pdf)"
     ]
    },
    {
     "cell_type": "code",
     "collapsed": false,
     "input": [
      "ultimate_analysis = {\"Carbon\": 60.9, \"Hydrogen\": 5.2, \"Nitrogen\": 0.9, \"Oxygen\": 27.6, \"Sulphur\": 0.4} # DAF\n",
      "\n",
      "proximate_analysis = {\"Fixed Carbon\": 43.8, \"Moisture\": 10.8, \"Volatile Matter\": 40.4,  \"Ash\": 5.0} # As recieved"
     ],
     "language": "python",
     "metadata": {},
     "outputs": [],
     "prompt_number": 2
    },
    {
     "cell_type": "markdown",
     "metadata": {},
     "source": [
      "# Heating Rate Approximation\n",
      "\n",
      "$\\frac{dT_p}{dt}=\\frac{-3}{C_p\\rho_pr_p}\\left[\\epsilon\\sigma\n",
      "(T^4_p-T^4_w) + h(T_p-T_g)\\right]$\n",
      "\n",
      "[density](http://www.ogj.com/articles/print/volume-97/issue-17/in-this-issue/general-interest/study-quantifies-powder-river-coal-seam-properties.html)\n",
      "[thermal conductivity](http://www.engineeringtoolbox.com/dry-air-properties-d_973.html) (@1200K)"
     ]
    },
    {
     "cell_type": "code",
     "collapsed": false,
     "input": [
      "props = {'Cp': 1.2,      # Find approx. value [kJ/kgK]\n",
      "    'lambda': 7.640e-05, # Find value, function of composition [kW/mK]\n",
      "    'epsilon': 0,        # black body\n",
      "    'sigma': 5.6e-8, 'rho': 1300.0, 'T_wall': 1200,\n",
      "    'diam': 75e-6, 'Nu': 2.0}"
     ],
     "language": "python",
     "metadata": {},
     "outputs": [],
     "prompt_number": 3
    },
    {
     "cell_type": "code",
     "collapsed": false,
     "input": [
      "# Digitized Gasphase Data from [Liu et al. (2011)] Fig 1.\n",
      "T_low = [400.0, 964.87, 1163.90, 1218.04, 1230.48, 1235.60, 1236.34, 1234.87, 1232.68, 1226.82, 1222.43,\n",
      "         1216.58, 1210.73, 1204.87, 1196.82, 1190.24, 1182.92, 1172.68, 1164.63, 1159.51]\n",
      "T_high = [400.0, 964.146341463, 1264.14, 1315.36, 1324.14, 1325.60, 1324.87, 1324.87, 1321.21, 1315.36,\n",
      "          1310.24, 1303.65, 1295.60, 1289.02, 1278.78, 1270.00, 1259.75, 1250.24, 1239.26, 1226.09]\n",
      "# Sample location distance is 0.025m from that we can compute the corresponding times\n",
      "# assuming a constant particle velocitiy of 2.5 m/s\n",
      "pos = [0.025 * x for x,_ in enumerate(T_low)]\n",
      "time = [0.025/2.5 * x for x,_ in enumerate(T_low)]"
     ],
     "language": "python",
     "metadata": {},
     "outputs": [],
     "prompt_number": 4
    },
    {
     "cell_type": "code",
     "collapsed": false,
     "input": [
      "def updateTg(T_old, T_gas, dt, props):\n",
      "    return T_old + dTdt(T_gas, T_old, props)*dt\n",
      "\n",
      "def dTdt(gas_temp, particle_temp, props):\n",
      "    T4diff = (particle_temp**4.0  - props['T_wall']**4.0) * props['sigma'] * props['epsilon']\n",
      "    h = props['Nu']*props['lambda']/props['diam']\n",
      "    Tdiff = (particle_temp - gas_temp)\n",
      "    a = -3/(props['Cp']*props['rho']*props['diam']/2)\n",
      "    return  a * (T4diff + h*Tdiff)"
     ],
     "language": "python",
     "metadata": {},
     "outputs": [],
     "prompt_number": 5
    },
    {
     "cell_type": "code",
     "collapsed": false,
     "input": [
      "T_new  = 300\n",
      "dt = 1e-4\n",
      "Temps = [T_new]\n",
      "Times = [0]\n",
      "for i in range(2000):\n",
      "    time_ = dt*(i+1)\n",
      "    T = np.interp(time_, time, T_high)\n",
      "    T_new = updateTg(T_new, T, dt/10.0, props)\n",
      "    Temps.append(T_new)\n",
      "    Times.append(time_)"
     ],
     "language": "python",
     "metadata": {},
     "outputs": [],
     "prompt_number": 6
    },
    {
     "cell_type": "code",
     "collapsed": false,
     "input": [
      "plt.plot(Times, Temps, label=\"Particle\")\n",
      "plt.title(\"Particle Temperature\")\n",
      "plt.xlabel('Time [s]')\n",
      "plt.ylabel('Temperature [K]')\n",
      "plt.plot(time, T_high, label=\"Gas Phase Exp\")\n",
      "plt.legend(loc='lower right')"
     ],
     "language": "python",
     "metadata": {},
     "outputs": [
      {
       "metadata": {},
       "output_type": "pyout",
       "prompt_number": 7,
       "text": [
        "<matplotlib.legend.Legend at 0x7ffdc1800a90>"
       ]
      },
      {
       "metadata": {},
       "output_type": "display_data",
       "png": "[encoded data removed]",
       "text": [
        "<matplotlib.figure.Figure at 0x7ffdc1872810>"
       ]
      }
     ],
     "prompt_number": 7
    },
    {
     "cell_type": "code",
     "collapsed": false,
     "input": [
      "#zip(Times, Temps)[0:20]"
     ],
     "language": "python",
     "metadata": {},
     "outputs": [],
     "prompt_number": 8
    },
    {
     "cell_type": "code",
     "collapsed": false,
     "input": [
      "operating_conditions = {'run0': zip(Times, Temps)[0:-1:50], 'pressure': 1.0, 'runs': 1}"
     ],
     "language": "python",
     "metadata": {},
     "outputs": [],
     "prompt_number": 35
    },
    {
     "cell_type": "code",
     "collapsed": false,
     "input": [
      "cpd_params = {'fit': 'constantRate', 'active': 'True', 'deltaT': '1e-08', 'MW_TAR': '130'}"
     ],
     "language": "python",
     "metadata": {},
     "outputs": [],
     "prompt_number": 36
    },
    {
     "cell_type": "code",
     "collapsed": false,
     "input": [
      "input_dict = {'Coal': {\n",
      "        'Proximate Analysis': proximate_analysis, 'Ultimate Analysis': ultimate_analysis, 'hhv': 20270, 'MW_PS': 100},\n",
      "    'CPD': cpd_params, 'OperatingConditions': operating_conditions}"
     ],
     "language": "python",
     "metadata": {},
     "outputs": [],
     "prompt_number": 11
    },
    {
     "cell_type": "markdown",
     "metadata": {},
     "source": [
      "# Run CPD Preprocessor "
     ]
    },
    {
     "cell_type": "code",
     "collapsed": false,
     "input": [
      "cpd = pkp.generate(json_string=input_dict)\n",
      "res = [(species_name, data) for species_name, data in cpd['run0'][1].iterspecies()]\n",
      "print \"Qfactor: \", cpd['run0'][1].Qfactor()"
     ],
     "language": "python",
     "metadata": {},
     "outputs": [
      {
       "output_type": "stream",
       "stream": "stdout",
       "text": [
        "Running CPD: 0\n",
        "/usr/local/lib/python2.7/dist-packages/pkp-1.0.0-py2.7.egg/pkp/bins/cpdnlg < /root/.pkp/CPD/IN.dat > /root/.pkp/CPD/Results/Run0/CPD_0_output.log\n",
        "Qfactor: "
       ]
      },
      {
       "output_type": "stream",
       "stream": "stdout",
       "text": [
        " 0.622954950495\n"
       ]
      }
     ],
     "prompt_number": 12
    },
    {
     "cell_type": "code",
     "collapsed": false,
     "input": [
      "#f,ax = plt.subplots(1,2)\n",
      "for name, data in res:\n",
      "    plt.plot(cpd['run0'][1]['time']*1000, data, label=name)\n",
      "    plt.title = \"Species Massfractions\"\n",
      "    plt.legend(loc='center left', bbox_to_anchor=(1, 0.5))\n",
      "    plt.xlabel('Time [s]')\n",
      "    plt.ylabel('Temperature [K]')"
     ],
     "language": "python",
     "metadata": {},
     "outputs": [
      {
       "metadata": {},
       "output_type": "display_data",
       "png": "[encoded data removed]",
       "text": [
        "<matplotlib.figure.Figure at 0x7ffdb7150a50>"
       ]
      }
     ],
     "prompt_number": 40
    },
    {
     "cell_type": "markdown",
     "metadata": {},
     "source": [
      "## Mass distribution\n",
      "At this point we have the released mass for the light gases (CO, CO2, CH4, H2O). Combined with 'other' they add up to 'fgas'. Adding 'fgas' and 'ftar' results in 'ftotal'. Since no chemical mechanisms for other and tar is availible we are distributing the total yield to the known species CH4, C2H2 and CO. \n",
      "\n",
      "$f_{tot} = \\alpha f_{CH4} + \\beta  f_{C2H2} + \\gamma f_{CO}$"
     ]
    },
    {
     "cell_type": "markdown",
     "metadata": {},
     "source": [
      "To compute the weight coefficients $\\alpha$, $\\beta$, $\\gamma$ the composition from the ultimate analysis (daf) is taken and corrected by the residual amount of carbon remaining as char in the coal.\n",
      "\n",
      "$m_C = m_{FC} + m_{VC} ~(1.)$\n",
      "\n",
      "where $m_C$ is known from the UA\n",
      "\n",
      "$m_C = (1-\\alpha) m_{FC,PA} + \\alpha m_{VC,PA} ~(2.)$\n",
      "\n",
      "We know that the UA(daf) is computed by\n",
      "\n",
      "$f_{i, UA} = m_i /(m_C + m_O + m_H)$\n",
      "\n",
      "the total mass of the volatile yield can be computed by adding the mass of the individual species components \n",
      "\n",
      "$m_{VM} = m_{VC} + m_O + m_H$\n",
      "\n",
      "$f_{i, VM} = m_i/m_{VM}$"
     ]
    },
    {
     "cell_type": "markdown",
     "metadata": {},
     "source": [
      "The total mass of volatile yield depends on the volatile charbon mass, which is variable, hence the total volatile mass can change. The ratio between volatile yield and the estimated volatile yield from the proximate analysis is given by the q-factor\n",
      "\n",
      "$m_{VM} = q*m_{VM,PA}$\n",
      "\n",
      "hence \n",
      "\n",
      "$m_{VC} + m_O + m_H = q\\left(m_{VC,PA} + m_{O,PA} + m_{H,PA}\\right)$ \n",
      "\n",
      "It is safe to assume that the mass of Oxygen and Hydrogen in the volatile yield is not affected by the heating rate, since pyrolysis is assumed to consume all Oxygen and Hydrogen.  \n",
      "\n",
      "$m_{VC} = qm_{VC,PA} + (q-1)(m_{O,PA} + m_{H,PA})$ \n",
      "\n",
      "$m_{VC} = qm_{VC,PA} + (q-1)(m_{VM,PA}-m_{VC,PA})$\n",
      "\n",
      "$m_{VC} = m_{VC,PA} + m_{VM,PA}(q-1)$"
     ]
    },
    {
     "cell_type": "markdown",
     "metadata": {},
     "source": [
      "$m_{VC}  = m_{C} - m_{FC,PA} + m_{VM,PA}(q-1)$"
     ]
    },
    {
     "cell_type": "markdown",
     "metadata": {},
     "source": [
      "\n",
      "\n",
      "$m_C = \\alpha f_{CH4} MW_C/MW_{CH4} + 2*\\beta f_{C2H2} MW_C/MW_{C2H2} + \\gamma f_{CO} MW_C/MW_{CO}$\n",
      "\n",
      "$m_O = \\gamma f_{CO} MW_O/MW_{CO}$\n",
      "\n",
      "$m_H = \\alpha f_{CH4} MW_C/MW_{CH4} + 2*\\beta f_{C2H2} MW_C/MW_{C2H2}$"
     ]
    },
    {
     "cell_type": "code",
     "collapsed": false,
     "input": [
      "#spec['ftot'] - spec['fgas'] - spec['ftar']\n",
      "#spec['fgas'] - spec['fh20'] - spec['fco2'] - spec['fch4'] - spec['fco'] - spec['fother']"
     ],
     "language": "python",
     "metadata": {},
     "outputs": [],
     "prompt_number": 39
    },
    {
     "cell_type": "code",
     "collapsed": false,
     "input": [
      "#!cat /root/.pkp/CPD/Results/Run0/CPD_Result1.dat"
     ],
     "language": "python",
     "metadata": {},
     "outputs": [],
     "prompt_number": 69
    },
    {
     "cell_type": "markdown",
     "metadata": {},
     "source": [
      "#Distribution of Enthalpies\n",
      "$LHV = HHV - h_{v}$\n",
      "\n",
      "$HHV = \\sum H_{products} - \\sum H_{reactants}  + h_{devol}$\n",
      "\n",
      "were the reactants are found using the CPD approximation. The reactants however contain TAR for which the enthalpy of formation is unknown. Therefore  \n",
      "\n",
      "\n"
     ]
    },
    {
     "cell_type": "code",
     "collapsed": false,
     "input": [
      "#plt.subplots(1,2)"
     ],
     "language": "python",
     "metadata": {},
     "outputs": [],
     "prompt_number": 34
    },
    {
     "cell_type": "code",
     "collapsed": false,
     "input": [],
     "language": "python",
     "metadata": {},
     "outputs": []
    }
   ],
   "metadata": {}
  }
 ]
}