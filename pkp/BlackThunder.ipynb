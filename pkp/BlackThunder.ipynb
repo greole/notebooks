{
 "metadata": {
  "name": "",
  "signature": "sha256:2455500caf0daa3925bd80140cce0c8062f4714b555ab5e0595f5965d04c0bb1"
 },
 "nbformat": 3,
 "nbformat_minor": 0,
 "worksheets": [
  {
   "cells": [
    {
     "cell_type": "code",
     "collapsed": false,
     "input": [
      "import pkp\n",
      "import numpy as np\n",
      "%pylab inline"
     ],
     "language": "python",
     "metadata": {},
     "outputs": [
      {
       "output_type": "stream",
       "stream": "stdout",
       "text": [
        "Populating the interactive namespace from numpy and matplotlib\n"
       ]
      }
     ],
     "prompt_number": 1
    },
    {
     "cell_type": "markdown",
     "metadata": {},
     "source": [
      "# Definition Coal Properties\n",
      "\n",
      "Coal properties are definied according to [Liu et al. (2011)](dx.doi.org/10.1016/j.ijggc.2011.05.028) table 1, Black Thunder coal. In absence of a given hhv the hhv is approximated to be 20.27 [MJ/kg] from [Sarv el. al](http://www.babcock.com/library/Documents/BR-1825.pdf). However the coal composition given in Sarv et al paper differs strongly from Liu et al. but is similar to the vendors [data](http://www.archcoal.com/customers/ACI_product_guide_2013.pdf)"
     ]
    },
    {
     "cell_type": "code",
     "collapsed": false,
     "input": [
      "ultimate_analysis = {\"Carbon\": 60.9, \"Hydrogen\": 5.2, \"Nitrogen\": 0.9, \"Oxygen\": 27.6, \"Sulphur\": 0.4} # DAF\n",
      "\n",
      "proximate_analysis = {\"Fixed Carbon\": 43.8, \"Moisture\": 10.8, \"Volatile Matter\": 40.4,  \"Ash\": 5.0} # As recieved"
     ],
     "language": "python",
     "metadata": {},
     "outputs": [],
     "prompt_number": 2
    },
    {
     "cell_type": "markdown",
     "metadata": {},
     "source": [
      "# Heating Rate Approximation\n",
      "\n",
      "$\\frac{dT_p}{dt}=\\frac{-3}{C_p\\rho_pr_p}\\left[\\epsilon\\sigma\n",
      "(T^4_p-T^4_w) + h(T_p-T_g)\\right]$\n",
      "\n",
      "[density](http://www.ogj.com/articles/print/volume-97/issue-17/in-this-issue/general-interest/study-quantifies-powder-river-coal-seam-properties.html)\n",
      "[thermal conductivity](http://www.engineeringtoolbox.com/dry-air-properties-d_973.html) (@1200K)"
     ]
    },
    {
     "cell_type": "code",
     "collapsed": false,
     "input": [
      "props = {'Cp': 1.2,      # Find approx. value [kJ/kgK]\n",
      "    'lambda': 7.640e-05, # Find value, function of composition [kW/mK]\n",
      "    'epsilon': 0,        # black body\n",
      "    'sigma': 5.6e-8, 'rho': 1300.0, 'T_wall': 1200,\n",
      "    'diam': 75e-6, 'Nu': 2.0}"
     ],
     "language": "python",
     "metadata": {},
     "outputs": [],
     "prompt_number": 200
    },
    {
     "cell_type": "code",
     "collapsed": false,
     "input": [
      "# Digitized Gasphase Data from [Liu et al. (2011)] Fig 1.\n",
      "T_low = [400.0, 964.87, 1163.90, 1218.04, 1230.48, 1235.60, 1236.34, 1234.87, 1232.68, 1226.82, 1222.43,\n",
      "         1216.58, 1210.73, 1204.87, 1196.82, 1190.24, 1182.92, 1172.68, 1164.63, 1159.51]\n",
      "T_high = [400.0, 964.146341463, 1264.14, 1315.36, 1324.14, 1325.60, 1324.87, 1324.87, 1321.21, 1315.36,\n",
      "          1310.24, 1303.65, 1295.60, 1289.02, 1278.78, 1270.00, 1259.75, 1250.24, 1239.26, 1226.09]\n",
      "# Sample location distance is 0.025m from that we can compute the corresponding times\n",
      "# assuming a constant particle velocitiy of 2.5 m/s\n",
      "pos = [0.025 * x for x,_ in enumerate(T_low)]\n",
      "time = [0.025/2.5 * x for x,_ in enumerate(T_low)]"
     ],
     "language": "python",
     "metadata": {},
     "outputs": [],
     "prompt_number": 201
    },
    {
     "cell_type": "code",
     "collapsed": false,
     "input": [
      "def updateTg(T_old, T_gas, dt, props):\n",
      "    return T_old + dTdt(T_gas, T_old, props)*dt\n",
      "\n",
      "def dTdt(gas_temp, particle_temp, props):\n",
      "    T4diff = (particle_temp**4.0  - props['T_wall']**4.0) * props['sigma'] * props['epsilon']\n",
      "    h = props['Nu']*props['lambda']/props['diam']\n",
      "    Tdiff = (particle_temp - gas_temp)\n",
      "    a = -3/(props['Cp']*props['rho']*props['diam']/2)\n",
      "    return  a * (T4diff + h*Tdiff)"
     ],
     "language": "python",
     "metadata": {},
     "outputs": [],
     "prompt_number": 202
    },
    {
     "cell_type": "code",
     "collapsed": false,
     "input": [
      "T_new  = 300\n",
      "dt = 1e-4\n",
      "Temps = [T_new]\n",
      "Times = [0]\n",
      "for i in range(2000):\n",
      "    time_ = dt*(i+1)\n",
      "    T = np.interp(time_, time, T_high)\n",
      "    T_new = updateTg(T_new, T, dt/10.0, props)\n",
      "    Temps.append(T_new)\n",
      "    Times.append(time_)"
     ],
     "language": "python",
     "metadata": {},
     "outputs": [],
     "prompt_number": 203
    },
    {
     "cell_type": "code",
     "collapsed": false,
     "input": [
      "plt.plot(Times, Temps, label=\"Particle\")\n",
      "plt.title(\"Particle Temperature\")\n",
      "plt.xlabel('Time [s]')\n",
      "plt.ylabel('Temperature [K]')\n",
      "plt.plot(time, T_high, label=\"Gas Phase Exp\")\n",
      "plt.legend(loc='lower right')"
     ],
     "language": "python",
     "metadata": {},
     "outputs": [
      {
       "metadata": {},
       "output_type": "pyout",
       "prompt_number": 204,
       "text": [
        "<matplotlib.legend.Legend at 0x7fd2c10ecd10>"
       ]
      },
      {
       "metadata": {},
       "output_type": "display_data",
       "png": "[encoded data removed]",
       "text": [
        "<matplotlib.figure.Figure at 0x7fd2c10ecc10>"
       ]
      }
     ],
     "prompt_number": 204
    },
    {
     "cell_type": "code",
     "collapsed": false,
     "input": [
      "#zip(Times, Temps)[0:20]"
     ],
     "language": "python",
     "metadata": {},
     "outputs": [],
     "prompt_number": 205
    },
    {
     "cell_type": "code",
     "collapsed": false,
     "input": [
      "operating_conditions = {\n",
      "    'run0': zip(Times, Temps)[0:-1:50],\n",
      "    'run1': [(0.0,300), (0.5, 2500)],\n",
      "    'pressure': 1.0, \n",
      "    'runs': 1,\n",
      "}"
     ],
     "language": "python",
     "metadata": {},
     "outputs": [],
     "prompt_number": 206
    },
    {
     "cell_type": "code",
     "collapsed": false,
     "input": [
      "cpd_params = {'fit': 'constantRate', 'active': 'True', \n",
      "            'deltaT': '1e-08', 'MW_TAR': '130'}"
     ],
     "language": "python",
     "metadata": {},
     "outputs": [],
     "prompt_number": 207
    },
    {
     "cell_type": "code",
     "collapsed": false,
     "input": [
      "input_dict = {'Coal': {'Proximate Analysis': proximate_analysis, \n",
      "                       'Ultimate Analysis': ultimate_analysis,\n",
      "                       'hhv': 20270, 'MW_PS': 100},\n",
      "              'CPD': cpd_params,\n",
      "              'OperatingConditions': operating_conditions}"
     ],
     "language": "python",
     "metadata": {},
     "outputs": [],
     "prompt_number": 208
    },
    {
     "cell_type": "markdown",
     "metadata": {},
     "source": [
      "# Run CPD Preprocessor "
     ]
    },
    {
     "cell_type": "code",
     "collapsed": false,
     "input": [
      "cpd = pkp.generate(json_string=input_dict)\n",
      "res = [(species_name, data) for species_name, data in cpd['run0'][1].iterspecies()]\n",
      "print \"Qfactor: \", cpd['run0'][1].Qfactor()"
     ],
     "language": "python",
     "metadata": {},
     "outputs": [
      {
       "output_type": "stream",
       "stream": "stdout",
       "text": [
        "Running CPD: 0\n",
        "/usr/local/lib/python2.7/dist-packages/pkp-1.0.0-py2.7.egg/pkp/bins/cpdnlg < /root/.pkp/CPD/IN.dat > /root/.pkp/CPD/Results/Run0/CPD_0_output.log\n",
        "Qfactor: "
       ]
      },
      {
       "output_type": "stream",
       "stream": "stdout",
       "text": [
        " 0.622954950495\n"
       ]
      }
     ],
     "prompt_number": 209
    },
    {
     "cell_type": "code",
     "collapsed": false,
     "input": [
      "for name, data in res:\n",
      "    plt.plot(cpd['run0'][1]['time']*1000, data, label=name)\n",
      "    plt.title(\"Species Massfractions\")\n",
      "    plt.legend(loc='center left', bbox_to_anchor=(1, 0.5))\n",
      "    plt.xlabel('Time [s]')\n",
      "    plt.ylabel('Temperature [K]')"
     ],
     "language": "python",
     "metadata": {},
     "outputs": [
      {
       "metadata": {},
       "output_type": "display_data",
       "png": "[encoded data removed]",
       "text": [
        "<matplotlib.figure.Figure at 0x7fd2c1022dd0>"
       ]
      }
     ],
     "prompt_number": 210
    },
    {
     "cell_type": "code",
     "collapsed": false,
     "input": [
      "spec = cpd['run0'][1]\n",
      "spec['ftot']-spec['fgas']+spec['ftar']\n",
      "spec['fgas']"
     ],
     "language": "python",
     "metadata": {},
     "outputs": [
      {
       "metadata": {},
       "output_type": "pyout",
       "prompt_number": 216,
       "text": [
        "array([ 0.    ,  0.    ,  0.    , ...,  0.1242,  0.1242,  0.1243])"
       ]
      }
     ],
     "prompt_number": 216
    },
    {
     "cell_type": "code",
     "collapsed": false,
     "input": [
      "!cat /root/.pkp/CPD/CPD_input.dat"
     ],
     "language": "python",
     "metadata": {},
     "outputs": [
      {
       "output_type": "stream",
       "stream": "stdout",
       "text": [
        "0.619793398881       ! p0\r\n",
        "0.15                 ! c0\r\n",
        "3.66806508418        ! sig+1\r\n",
        "406.176172997        ! mw\r\n",
        "55.8373632513        ! mdel (7 will be subtracted internally to the CPD model\r\n",
        "0.641052631579       ! fcar (daf mass fraction of carbon in unreacted coal)\r\n",
        "0.0547368421053      ! fhyd (daf mass fraction of hydrogen in unreacted coal)\r\n",
        "0.00947368421053     ! fnit (daf mass fraction of nitrogen in unreacted coal)\r\n",
        "0.290526315789       ! foxy (daf mass fraction of oxygen in unreacted coal)\r\n",
        "2.602e+15            ! ab\r\n",
        "55400                ! eb\r\n",
        "1800                 ! ebsig\r\n",
        "0.9                  ! ac=rho\r\n",
        "0                    ! ec\r\n",
        "3e+15                ! ag\r\n",
        "69000                ! eg\r\n",
        "8100                 ! egsig\r\n",
        "3e+15                ! Acr (pre-exponential factor for crosslinking rate)\r\n",
        "65000                ! Ecr (activation energy for crosslinking rate)\r\n",
        "18.4                 ! arad (pre-exponential factor for N attack by free radical)\r\n",
        "6000                 ! erad (activation energy for N attack by free radical, cal.)\r\n",
        "0.03                 ! fstable (initial frac. of MW decay with no radical N attack)\r\n",
        "55000000.0           ! an (high T slow N release pre-exponential factor)\r\n",
        "90000                ! en (high T slow N release activation energy, calories)\r\n",
        "0                    ! ensig (deviation bound for distribution of en)\r\n",
        "1.0                  ! pressure (atm)\r\n",
        "40                   ! number of time points\r\n",
        "0 300\r\n",
        "0.005 312.480779011\r\n",
        "0.01 338.69033866\r\n",
        "0.015 374.470068926\r\n",
        "0.02 416.066215179\r\n",
        "0.025 459.924510151\r\n",
        "0.03 502.853525045\r\n",
        "0.035 544.344766127\r\n",
        "0.04 583.946655669\r\n",
        "0.045 621.659540839\r\n",
        "0.05 657.489101652\r\n",
        "0.055 691.502563526\r\n",
        "0.06 723.765329253\r\n",
        "0.065 754.37611212\r\n",
        "0.07 783.428064932\r\n",
        "0.075 810.952636594\r\n",
        "0.08 836.982349769\r\n",
        "0.085 861.564647555\r\n",
        "0.09 884.746157823\r\n",
        "0.095 906.607775041\r\n",
        "0.1 927.225740599\r\n",
        "0.105 946.644134585\r\n",
        "0.11 964.905866836\r\n",
        "0.115 982.050718512\r\n",
        "0.12 998.117512132\r\n",
        "0.125 1013.18039885\r\n",
        "0.13 1027.30867924\r\n",
        "0.135 1040.5020141\r\n",
        "0.14 1052.76275678\r\n",
        "0.145 1064.15751973\r\n",
        "0.15 1074.74845603\r\n",
        "0.155 1084.55724803\r\n",
        "0.16 1093.60554842\r\n",
        "0.165 1101.94177605\r\n",
        "0.17 1109.6113432\r\n",
        "0.175 1116.62894715\r\n",
        "0.18 1123.0096112\r\n",
        "0.185 1128.75708961\r\n",
        "0.19 1133.87654626\r\n",
        "0.195 1138.57244391\r\n",
        "1e-08 1 1e-08 ! dt (s), print increment, max dt (s))\r\n",
        "0.03                    ! timax (maximum residence time [s] for calculations))\r\n",
        "20                   ! nmax (maximum number of mers for tar molecular wt))\r\n"
       ]
      }
     ],
     "prompt_number": 218
    },
    {
     "cell_type": "code",
     "collapsed": false,
     "input": [
      "#!cat /root/.pkp/CPD/Results/Run0/CPD_Result1.dat"
     ],
     "language": "python",
     "metadata": {},
     "outputs": [],
     "prompt_number": 69
    },
    {
     "cell_type": "markdown",
     "metadata": {},
     "source": [
      "#Distribution of Enthalpies\n",
      "$LHV = HHV - h_{v}$\n",
      "\n",
      "$HHV = \\sum H_{products} - \\sum H_{reactants}  + h_{devol}$\n",
      "\n",
      "were the reactants are found using the CPD approximation. The reactants however contain TAR for which the enthalpy of formation is unknown. Therefore  \n",
      "\n",
      "\n"
     ]
    },
    {
     "cell_type": "markdown",
     "metadata": {},
     "source": []
    }
   ],
   "metadata": {}
  }
 ]
}