{
 "metadata": {
  "name": "",
  "signature": "sha256:e13ab0b055892c6d153c1124f688016ff5747ebdaf5275ba6e609b473be37964"
 },
 "nbformat": 3,
 "nbformat_minor": 0,
 "worksheets": [
  {
   "cells": [
    {
     "cell_type": "code",
     "collapsed": false,
     "input": [
      "from IPython.display import HTML\n",
      "\n",
      "HTML('''<script>\n",
      "code_show=false; \n",
      "function code_toggle() {\n",
      " if (code_show){\n",
      " $('div.input').hide();\n",
      " } else {\n",
      " $('div.input').show();\n",
      " }\n",
      " code_show = !code_show\n",
      "} \n",
      "$( document ).ready(code_toggle);\n",
      "</script>\n",
      "<form action=\"javascript:code_toggle()\"><input type=\"submit\" value=\"Click here to toggle on/off the raw code.\"></form>''')"
     ],
     "language": "python",
     "metadata": {},
     "outputs": [
      {
       "html": [
        "<script>\n",
        "code_show=false; \n",
        "function code_toggle() {\n",
        " if (code_show){\n",
        " $('div.input').hide();\n",
        " } else {\n",
        " $('div.input').show();\n",
        " }\n",
        " code_show = !code_show\n",
        "} \n",
        "$( document ).ready(code_toggle);\n",
        "</script>\n",
        "<form action=\"javascript:code_toggle()\"><input type=\"submit\" value=\"Click here to toggle on/off the raw code.\"></form>"
       ],
       "metadata": {},
       "output_type": "pyout",
       "prompt_number": 16,
       "text": [
        "<IPython.core.display.HTML at 0x7fb269540050>"
       ]
      }
     ],
     "prompt_number": 16
    },
    {
     "cell_type": "code",
     "collapsed": false,
     "input": [
      "from IPython.display import HTML\n",
      "js = r\"\"\" <script type=\"text/Javascript\"> MathJax.Hub.Config({ TeX: { equationNumbers: { autoNumber: \"AMS\", useLabelIds: true } }});\n",
      "</script>\"\"\"\n",
      "HTML(js)"
     ],
     "language": "python",
     "metadata": {},
     "outputs": [
      {
       "html": [
        " <script type=\"text/Javascript\"> MathJax.Hub.Config({ TeX: { equationNumbers: { autoNumber: \"AMS\", useLabelIds: true } }});\n",
        "</script>"
       ],
       "metadata": {},
       "output_type": "pyout",
       "prompt_number": 17,
       "text": [
        "<IPython.core.display.HTML at 0x7fb269540350>"
       ]
      }
     ],
     "prompt_number": 17
    },
    {
     "cell_type": "code",
     "collapsed": false,
     "input": [
      "import pkp\n",
      "import numpy as np\n",
      "%pylab inline"
     ],
     "language": "python",
     "metadata": {},
     "outputs": [
      {
       "output_type": "stream",
       "stream": "stdout",
       "text": [
        "Populating the interactive namespace from numpy and matplotlib\n"
       ]
      },
      {
       "output_type": "stream",
       "stream": "stderr",
       "text": [
        "WARNING: pylab import has clobbered these variables: ['fmin']\n",
        "`%matplotlib` prevents importing * from pylab and numpy\n"
       ]
      }
     ],
     "prompt_number": 18
    },
    {
     "cell_type": "code",
     "collapsed": false,
     "input": [
      "import time\n",
      "print \"last modifaction: \", time.strftime(\"%d/%m/%Y at %H:%M:%S\")"
     ],
     "language": "python",
     "metadata": {},
     "outputs": [
      {
       "output_type": "stream",
       "stream": "stdout",
       "text": [
        "last modifaction:  29/05/2015 at 07:54:55\n"
       ]
      }
     ],
     "prompt_number": 19
    },
    {
     "cell_type": "code",
     "collapsed": false,
     "input": [
      "# Plot Templates\n",
      "def plt_pie(ax, a, title):\n",
      "    ua = zip(*[(label, value) for label, value in a.iteritems()])\n",
      "    ax.pie(ua[1], labels=ua[0])\n",
      "    ax.set_title(title)\n",
      "    \n",
      "def plt_bar(f, ax ,a, label_, pattern, offs=0.0):\n",
      "    bar = 0.50\n",
      "    ua = zip(*[(label, value) for label, value in a.iteritems()])\n",
      "    index = np.arange(len(ua[0]))\n",
      "    ax.bar(index+offs, ua[1], bar, label=label_, hatch=pattern, color=\"None\")\n",
      "    ax.set_ylabel('Composition [%]')\n",
      "    plt.xticks(index+bar, ua[0])\n",
      "    plt.legend(loc=\"upper left\")\n",
      "    \n",
      "def pprint(s, d):\n",
      "    print s\n",
      "    for k,v in d.iteritems():\n",
      "        print k, \": \", v"
     ],
     "language": "python",
     "metadata": {},
     "outputs": [],
     "prompt_number": 20
    },
    {
     "cell_type": "code",
     "collapsed": false,
     "input": [
      "# Particle Temperature Equation and Explicit Time Integration\n",
      "def computeParticleTemperature(props, time, T_gas, T_start=300, dt=1e-4):\n",
      "    def updateTg(T_old, T_gas, dt, props):\n",
      "        return T_old + dTdt(T_gas, T_old, props)*dt\n",
      "\n",
      "    def dTdt(gas_temp, particle_temp, props):\n",
      "        T4diff = (particle_temp**4.0  - props['T_wall']**4.0) * props['sigma'] * props['epsilon']\n",
      "        h = props['Nu']*props['lambda']/props['particle diameter']\n",
      "        Tdiff = (particle_temp - gas_temp)\n",
      "        a = -3/(props['Cp']*props['rho']*props['particle diameter']/2)\n",
      "        return  a * (T4diff + h*Tdiff)\n",
      "    \n",
      "    Temps, Times = [T_start], [0]\n",
      "    for i in range(2000):\n",
      "        time_ = dt*(i+1) # current time\n",
      "        T = np.interp(time_, time, T_gas) # interpolate temperature\n",
      "        T_start = updateTg(T_start, T, dt, props) # update temperature\n",
      "        Temps.append(T_start)\n",
      "        Times.append(time_)\n",
      "    return Times, Temps\n",
      "\n",
      "def particle_response_time(props):\n",
      "    return (props['Cp']*props['rho']*props['particle diameter']**2)/(12.0*props['lambda'])\n",
      "\n",
      "def compute_and_plot(ax, time, temp, props, label, exp=True):\n",
      "    Times, Temps = computeParticleTemperature(props, time, temp)\n",
      "    ax.plot(Times, Temps, label=label)\n",
      "    ax.get_xaxis().get_label().set_text('Time [s]')\n",
      "    ax.get_yaxis().get_label().set_text('Temperature [K]')\n",
      "    if exp:\n",
      "        ax.plot(time, T_high, label=\"Gas Phase Exp\")\n",
      "    ax.legend(loc='lower right')\n",
      "    \n",
      "def plot_cpd(cpd):\n",
      "    f, ax = plt.subplots(3,1, sharex=True)\n",
      "    f.set_figwidth(15)\n",
      "    f.set_figheight(7.5)\n",
      "    f.subplots_adjust(hspace=0)\n",
      "    cpd_data = cpd['run0'][1]\n",
      "    yields = [(species_name, data) for species_name, data in cpd_data.iterspecies()]\n",
      "    rates = [cpd_data.rate(species_name) for species_name, _ in cpd_data.iterspecies()]\n",
      "    times = cpd['run0'][1]['time']\n",
      "    leg = []\n",
      "    legp = []\n",
      "    for name, data in yields:\n",
      "        ap, = ax[0].plot(times, data, label=name)\n",
      "        ax[0].set_title = \"Species Massfractions\"\n",
      "        ax[0].get_yaxis().get_label().set_text('Massfraction [kg/kg_coal]')\n",
      "        leg.append(name)\n",
      "        legp.append(ap)\n",
      "    for data in rates:\n",
      "        ax[1].plot(times, data, label=name)\n",
      "        ax[1].get_yaxis().get_label().set_text('Release Rate [kg/(kg_coal*s)]')\n",
      "    plt.legend(legp, leg, loc='center left', bbox_to_anchor=(1.01, 2.0))\n",
      "    ax[2].plot(times, cpd['run0'][1]['temp'], label=\"foo\")\n",
      "    ax[2].get_yaxis().get_label().set_text('Temperature [K]')\n",
      "    ax[2].get_xaxis().get_label().set_text('Time [s]')\n",
      "    \n",
      "def plot_cpd_rates(cpd):\n",
      "    f, ax = plt.subplots(1,1, sharex=True)\n",
      "    f.set_figwidth(15)\n",
      "    f.set_figheight(7.5)\n",
      "    f.subplots_adjust(hspace=0)\n",
      "    cpd_data = cpd['run0'][1]\n",
      "    rates = [(species_name,cpd_data.rate(species_name)) for species_name, _ in cpd_data.iterspecies() if species_name in ('ftar','fgas')]\n",
      "    times = cpd['run0'][1]['time']\n",
      "    for name, data in rates:\n",
      "        ap, = ax.plot(times, data, label=name)\n",
      "        ax.set_title = \"Species Massfractions\"\n",
      "        ax.get_yaxis().get_label().set_text('Massfraction [kg/kg_coal]')"
     ],
     "language": "python",
     "metadata": {},
     "outputs": [
      {
       "output_type": "stream",
       "stream": "stdout",
       "text": [
        "\n"
       ]
      }
     ],
     "prompt_number": 56
    },
    {
     "cell_type": "markdown",
     "metadata": {},
     "source": [
      "# Pyrolysis Kinetics Calculation of Black Thunder Coal\n",
      "\n",
      "## 1. Introduction\n",
      "\n",
      "The present document describes how input data for CFD simulations of pulverised coal combustion of black thunder coal is generated employing [PKP]() and [CPD](). At first the temperature profile for a single coal particle is estimated based on the (measured) gas temperature by integrating the particle temperature balance, or by alternative means of obtaining the particle temperature i.e. auxiliary CFD simulations. The temperature profile serves as input data for the CPD preprocessor. The CPD preprocessor computes the evolution of individual volatile species and the total yield over time. In the next step the final yield is split up to prescribe species (** CH4, C2H2, CO2, N2 ?** ) and the enthalpy of devolatilisation is computed to conserve the energy balance."
     ]
    },
    {
     "cell_type": "markdown",
     "metadata": {},
     "source": [
      "<!--  ## 2.Uncertainties-->\n",
      "\n",
      "<!-- The following values are taken as estimates and should be updated or confirmed. -->\n",
      "\n",
      "<!--  * **Temperature profile:** So far the computations are based on the temperature profiles given in [Liu et al. (2011)](dx.doi.org/10.1016/j.ijggc.2011.05.028) Fig. 1 **Please tell me if there is a more appropriate  profile**, **TODO: update with  Shaddix 2009 Fig.1 **-->\n",
      "<!-- * **HHV, cp, density of the black thunder coal:** In [Liu et al. (2011)](dx.doi.org/10.1016/j.ijggc.2011.05.028) no values for the forementioned quantities are given and are estimated based on the mentioned sources.-->\n",
      "\n",
      "<!-- * **Emissivity of coal and furnace wall temperature:** Particle heat up is strongly influenced by these two parameters and should be set with great care. Currently the wall temperature is set to $1200K$-->"
     ]
    },
    {
     "cell_type": "markdown",
     "metadata": {},
     "source": [
      "## 2. Definition of the Coal Properties\n",
      "\n",
      "Coal properties are definied according to [Liu et al. (2011)](dx.doi.org/10.1016/j.ijggc.2011.05.028) table 1, Black Thunder coal. In absence of a given HHV the HHV (as recieved) is approximated to be 20.27 [MJ/kg] from [Sarv el. al](http://www.babcock.com/library/Documents/BR-1825.pdf). However the coal composition given in Sarv et al paper differs strongly from Liu et al. but is similar to the vendors [data](http://www.archcoal.com/customers/ACI_product_guide_2013.pdf)"
     ]
    },
    {
     "cell_type": "code",
     "collapsed": false,
     "input": [
      "ultimate_analysis = {\"Carbon\": 60.9, \"Hydrogen\": 5.2, \"Nitrogen\": 0.9, \"Oxygen\": 27.6, \"Sulphur\": 0.4} # DAF\n",
      "proximate_analysis = {\"Fixed Carbon\": 43.8, \"Moisture\": 10.8, \"Volatile Matter\": 40.4,  \"Ash\": 5.0} # As recieved\n",
      "#print \"ultimate analysis: \", ultimate_analysis\n",
      "#print \"proximate analysis: \", proximate_analysis"
     ],
     "language": "python",
     "metadata": {},
     "outputs": [],
     "prompt_number": 22
    },
    {
     "cell_type": "code",
     "collapsed": false,
     "input": [
      "HTML(json2html.convert(json = ultimate_analysis))"
     ],
     "language": "python",
     "metadata": {},
     "outputs": [
      {
       "html": [
        "<table border=\"1\"><tr><th>Carbon</th><td>60.9</td></tr><tr><th>Sulphur</th><td>0.4</td></tr><tr><th>Hydrogen</th><td>5.2</td></tr><tr><th>Oxygen</th><td>27.6</td></tr><tr><th>Nitrogen</th><td>0.9</td></tr></table>"
       ],
       "metadata": {},
       "output_type": "pyout",
       "prompt_number": 23,
       "text": [
        "<IPython.core.display.HTML at 0x7fb24d45f910>"
       ]
      }
     ],
     "prompt_number": 23
    },
    {
     "cell_type": "code",
     "collapsed": false,
     "input": [
      "HTML(json2html.convert(json = proximate_analysis))"
     ],
     "language": "python",
     "metadata": {},
     "outputs": [
      {
       "html": [
        "<table border=\"1\"><tr><th>Fixed Carbon</th><td>43.8</td></tr><tr><th>Ash</th><td>5.0</td></tr><tr><th>Volatile Matter</th><td>40.4</td></tr><tr><th>Moisture</th><td>10.8</td></tr></table>"
       ],
       "metadata": {},
       "output_type": "pyout",
       "prompt_number": 24,
       "text": [
        "<IPython.core.display.HTML at 0x7fb26803c5d0>"
       ]
      }
     ],
     "prompt_number": 24
    },
    {
     "cell_type": "markdown",
     "metadata": {},
     "source": [
      "Further parameters taken to compute the particle temperatures are shown below."
     ]
    },
    {
     "cell_type": "code",
     "collapsed": false,
     "input": [
      "# PLEASE DOUBLE CHECK\n",
      "props = {'Cp': 1.2,      # Find approx. value [kJ/kgK]\n",
      "    'lambda': 8.831e-05, # Find value, function of composition [kW/mK]\n",
      "    'rho': 1300.0, 'T_wall': 1720,\n",
      "    'particle diameter': 75e-6, 'Nu': 2.0}\n",
      "print 'particle properties: ', props\n",
      "props.update({'sigma': 5.6e-8, 'epsilon': 0.0})"
     ],
     "language": "python",
     "metadata": {},
     "outputs": [
      {
       "output_type": "stream",
       "stream": "stdout",
       "text": [
        "particle properties:  {'rho': 1300.0, 'T_wall': 1720, 'particle diameter': 7.5e-05, 'Cp': 1.2, 'Nu': 2.0, 'lambda': 8.831e-05}\n"
       ]
      }
     ],
     "prompt_number": 25
    },
    {
     "cell_type": "code",
     "collapsed": false,
     "input": [
      "HTML(json2html.convert(json = props))"
     ],
     "language": "python",
     "metadata": {},
     "outputs": [
      {
       "html": [
        "<table border=\"1\"><tr><th>particle diameter</th><td>7.5e-05</td></tr><tr><th>epsilon</th><td>0</td></tr><tr><th>Nu</th><td>2.0</td></tr><tr><th>rho</th><td>1300.0</td></tr><tr><th>Cp</th><td>1.2</td></tr><tr><th>sigma</th><td>5.6e-08</td></tr><tr><th>T_wall</th><td>1720</td></tr><tr><th>lambda</th><td>8.831e-05</td></tr></table>"
       ],
       "metadata": {},
       "output_type": "pyout",
       "prompt_number": 51,
       "text": [
        "<IPython.core.display.HTML at 0x7fb244a82c50>"
       ]
      }
     ],
     "prompt_number": 51
    },
    {
     "cell_type": "code",
     "collapsed": false,
     "input": [
      "cpd_params = {'fit': 'constantRate', 'active': 'True', 'deltaT': '0.5e-05', 'MW_TAR': '130'}\n",
      "input_dict = {'Coal': {\n",
      "        'Proximate Analysis': proximate_analysis, 'Ultimate Analysis': ultimate_analysis, 'hhv': 20270, 'MW_PS': 100},\n",
      "    'CPD': cpd_params, 'OperatingConditions': {}}"
     ],
     "language": "python",
     "metadata": {},
     "outputs": [],
     "prompt_number": 26
    },
    {
     "cell_type": "code",
     "collapsed": false,
     "input": [
      "from pkp.src.CoalThermoPhysics import PostulateSubstance, Coal\n",
      "coal = Coal(input_dict['Coal'])"
     ],
     "language": "python",
     "metadata": {},
     "outputs": [],
     "prompt_number": 27
    },
    {
     "cell_type": "markdown",
     "metadata": {},
     "source": [
      "The following Figure displays the composition of the Black Thunder coal based on the dry ash free (daf) proximate analysis (left) and the elemental composition based on the ultimate analysis (middle). Additionally we can estimate the elemental composition of the volatile matter (right) by subtracting the fixed carbon from ultimate analysis. However this is only a rough estimate and the final composition is computed based on the CPD results."
     ]
    },
    {
     "cell_type": "code",
     "collapsed": false,
     "input": [
      "f, ax = plt.subplots(1,3)\n",
      "plt_pie(ax[0], coal.pa_daf, \"Prox. Ana. DAF\")\n",
      "plt_pie(ax[1], coal.ua, \"Ultimate Ana. DAF\")\n",
      "plt_pie(ax[2], coal.ua_vm, \"Vol. Matter q=1.0\")\n",
      "plt.suptitle(\"Elemental Compostion Black Thunder Coal\")"
     ],
     "language": "python",
     "metadata": {},
     "outputs": [
      {
       "metadata": {},
       "output_type": "pyout",
       "prompt_number": 28,
       "text": [
        "<matplotlib.text.Text at 0x7fb24ba7c2d0>"
       ]
      },
      {
       "metadata": {},
       "output_type": "display_data",
       "png": "[encoded data removed]",
       "text": [
        "<matplotlib.figure.Figure at 0x7fb24bbb1a50>"
       ]
      }
     ],
     "prompt_number": 28
    },
    {
     "cell_type": "markdown",
     "metadata": {},
     "source": [
      "## 3. Particle Temperature Approximation\n",
      "\n",
      "To set the operating conditions for the CPD pre-processor we need the temperature profile of the coal particle. The particle tem perature is calculated by solving the particle temperature equation \n",
      "\n",
      "\\begin{align}\n",
      "\\frac{dT_p}{dt}=\\frac{-3}{C_p\\rho_pr_p}\\left[\\epsilon\\sigma\n",
      "(T^4_p-T^4_w) + h(T_p-T_g)\\right]\n",
      "\\label{ParticleTempEqn}\n",
      "\\end{align}\n",
      "\n",
      "where subscripts p, g and w denote particle, gas phase and wall properties respectivly. The coal density $\\rho_p$ is assumed to be $ 1300~ \\left[kg/m^3\\right]$ (**confirm!**) based on this [data](http://www.ogj.com/articles/print/volume-97/issue-17/in-this-issue/general-interest/study-quantifies-powder-river-coal-seam-properties.html). The heat capacity is set to $1.2~ \\left[kJ/kgK\\right]$ The heat transfer coefficient $h=Nu\\lambda_g/d_p$ depends on the gas phase heat conductivity $\\lambda_g$, where $Nu=2$. For simplicity we set a (so far) constant  value based on [thermal conductivity](http://www.engineeringtoolbox.com/dry-air-properties-d_973.html) at $1500\\left[K\\right]$, which is used as wall temperature too."
     ]
    },
    {
     "cell_type": "code",
     "collapsed": false,
     "input": [
      "# Digitized Gasphase Data from [Liu et al. (2011)] Fig 1.\n",
      "T_low = [400.0, 964.87, 1163.90, 1218.04, 1230.48, 1235.60, 1236.34, 1234.87, 1232.68, 1226.82, 1222.43,\n",
      "         1216.58, 1210.73, 1204.87, 1196.82, 1190.24, 1182.92, 1172.68, 1164.63, 1159.51]\n",
      "T_high = [400.0, 964.146341463, 1264.14, 1315.36, 1324.14, 1325.60, 1324.87, 1324.87, 1321.21, 1315.36,\n",
      "          1310.24, 1303.65, 1295.60, 1289.02, 1278.78, 1270.00, 1259.75, 1250.24, 1239.26, 1226.09]\n",
      "# Sample location distance is 0.025m from that we can compute the corresponding times\n",
      "# assuming a constant particle velocitiy of 2.5 m/s\n",
      "pos = [0.025 * x for x,_ in enumerate(T_low)]\n",
      "time = [0.025/2.5 * x for x,_ in enumerate(T_low)]"
     ],
     "language": "python",
     "metadata": {},
     "outputs": [],
     "prompt_number": 29
    },
    {
     "cell_type": "code",
     "collapsed": false,
     "input": [
      "# Digitized Gasphase Data from [Shaddix et al. (2009)] Fig 1.\n",
      "T_high = [400,  930.64, 1235.48, 1551.61, 1608.06, 1687.09,  1743.54, 1766.12, 1766.12, 1766.12, 1766.12, 1743.54, 1743.54, 1732.25, 1720.96]\n",
      "time = [0.0, 1.1382, 1.7886, 2.9268, 3.0894, 3.9024, 5.8536, 8.9430, 10.8943, 14.1463, 17.5610, 25.3658, 29.1056, 34.6341, 38.6991]\n",
      "time = [_ / 1000.0 for _ in time]"
     ],
     "language": "python",
     "metadata": {},
     "outputs": [],
     "prompt_number": 30
    },
    {
     "cell_type": "code",
     "collapsed": false,
     "input": [
      "T_matt = [306.09, 318.23, 330.32, 342.37, 354.38, 366.33, 378.23, 390.08, 401.87, 413.61, 425.30, 436.96, 448.58, 460.12, 471.61,\n",
      "483.03, 494.39, 505.67, 516.89, 528.03, 539.10, 550.08, 560.99, 571.81, 582.58, 593.25, 603.82, 614.29, 624.65, 634.90, 645.02,\n",
      "655.04, 664.93, 674.67, 684.26, 693.70, 702.97, 712.07, 721.02, 729.78, 738.34, 746.71, 754.86, 762.81, 770.54, 778.08, 785.39,\n",
      "792.47, 799.35, 805.97, 812.36, 818.54, 824.48, 830.19, 835.69, 850.79, 880.44, 916.29, 954.05, 991.51, 1025.62, 1054.39, 1077.48,\n",
      "1095.85, 1110.95, 1123.58, 1134.30, 1143.54, 1151.49, 1158.53, 1164.95, 1170.83, 1176.33, 1181.63, 1186.82, 1191.96, 1197.01,\n",
      "1202.03, 1207.14, 1212.37, 1217.73, 1223.25, 1228.93, 1234.80, 1240.77, 1246.87, 1253.24, 1259.87, 1266.77, 1273.96, 1281.46,\n",
      "1289.20, 1297.20, 1305.58, 1314.37, 1323.59, 1333.18, 1343.17, 1353.72, 1364.85, 1376.61, 1388.93, 1401.89, 1415.64, 1430.16,\n",
      "1445.51, 1461.84, 1479.26, 1497.86, 1517.64, 1538.72, 1561.42, 1585.85, 1612.14, 1639.51, 1657.08, 1664.85, 1672.70, 1680.61,\n",
      "1688.59, 1696.63, 1704.74, 1712.91, 1721.14, 1729.42, 1737.76, 1746.14, 1754.55, 1763.00, 1771.47, 1779.97, 1788.48, 1796.99,\n",
      "1805.49, 1813.97, 1822.41, 1830.79, 1839.10, 1847.33, 1855.45, 1863.47, 1871.36, 1879.12, 1886.72, 1894.15, 1901.39, 1908.42,\n",
      "1915.22, 1921.80, 1928.14, 1934.24, 1940.10, 1945.71, 1951.07, 1956.18, 1961.04, 1965.64, 1969.99, 1974.08, 1977.91, 1981.50,\n",
      "1984.85, 1987.96, 1990.84, 1993.51, 1995.97, 1998.22, 2000.29, 2002.17, 2003.88, 2005.42, 2006.81, 2008.06, 2009.16, 2010.14,\n",
      "2010.99, 2011.73, 2012.37, 2012.90, 2013.35, 2013.71, 2013.99, 2014.19, 2014.33, 2014.40, 2014.41, 2014.37, 2014.28, 2014.14,\n",
      "2013.95, 2013.73, 2013.47, 2013.18, 2012.85, 2012.49, 2012.11, 2011.70, 2011.26, 2010.81, 2010.33, 2009.84, 2009.32, 2008.80,\n",
      "2008.25, 2007.69, 2007.12, 2006.53, 2005.94, 2005.33, 2004.71, 2004.07, 2003.42, 2002.76, 2002.08, 2001.39, 2000.69, 1999.97,\n",
      "1999.24, 1998.50, 1997.75, 1996.99, 1996.22, 1995.44, 1994.65, 1993.85, 1993.05, 1992.24, 1991.41, 1990.59, 1989.75, 1988.90,\n",
      "1988.05, 1987.19, 1986.32, 1985.45, 1984.58, 1983.71, 1982.83, 1981.96, 1981.08, 1980.21, 1979.32, 1978.43, 1977.54, 1976.64,\n",
      "1975.73, 1974.81, 1973.88, 1972.93, 1971.98, 1971.01, 1970.04, 1969.05, 1968.05, 1967.04, 1966.01, 1964.96, 1963.90, 1962.81,\n",
      "1961.71, 1960.59, 1959.45, 1958.30, 1957.14, 1955.96, 1954.78, 1953.60, 1952.41, 1951.20, 1949.99, 1948.77, 1947.54, 1946.31,\n",
      "1945.07, 1943.84, 1942.60, 1941.37, 1940.12, 1938.88, 1937.62, 1936.36, 1935.09, 1933.79, 1932.47, 1931.13, 1929.78, 1928.40,\n",
      "1927.01, 1925.60, 1924.18, 1922.74, 1921.29, 1919.83, 1918.34, 1916.85, 1915.34, 1913.82, 1912.29, 1910.74, 1909.20, 1907.65]\n",
      "\n",
      "time_matt = [i*0.1/1000.0 for i,_ in enumerate(T_matt)]"
     ],
     "language": "python",
     "metadata": {},
     "outputs": [],
     "prompt_number": 31
    },
    {
     "cell_type": "code",
     "collapsed": false,
     "input": [
      "from copy import deepcopy\n",
      "props_orig = deepcopy(props)"
     ],
     "language": "python",
     "metadata": {},
     "outputs": [],
     "prompt_number": 32
    },
    {
     "cell_type": "markdown",
     "metadata": {},
     "source": [
      "The following Fig. shows the particle temperature curve (green) in comparisson to the gas-phase temperature (red) and CFD particle temperatures (blue)."
     ]
    },
    {
     "cell_type": "code",
     "collapsed": false,
     "input": [
      "f, ax = plt.subplots(1,1)\n",
      "f.set_figwidth(7.5)\n",
      "ax.plot(time_matt, T_matt, label='Matt')\n",
      "compute_and_plot(ax, time, T_high, props_orig, \"Particle\")"
     ],
     "language": "python",
     "metadata": {},
     "outputs": [
      {
       "metadata": {},
       "output_type": "display_data",
       "png": "[encoded data removed]",
       "text": [
        "<matplotlib.figure.Figure at 0x7fb24d45fc90>"
       ]
      }
     ],
     "prompt_number": 33
    },
    {
     "cell_type": "markdown",
     "metadata": {},
     "source": [
      "#### Sensitivity Study Particle Heat up\n",
      "The particle temperature profile is strongly affected by radiation, but the emissivity and furnace wall temperature are unknown. Furthermore the mass of the individual coal particles is variable with in a certain range. The sensitivity of the particle temperature profile shall be investigated exemplarily by varying the emissivity and the particle diameter.\n",
      "\n",
      "The figure on the left shows the particle temperature in comparisson to the gas phase temperature (green) with different emissivity. It can be seen that for larger $\\epsilon$ the heating increases dramatically. Additionally with increasing $\\epsilon$  the wall temperature strongly affects the temperature profile. Since it affects the initial heat up and defines an upper bound for the particle temperature. \n",
      "\n",
      "The figure on the right shows that the particle heating for increasingly larger particles shifts the particles away from thermal equilibrium."
     ]
    },
    {
     "cell_type": "code",
     "collapsed": false,
     "input": [
      "f, ax = plt.subplots(1,2)\n",
      "f.set_figwidth(15)\n",
      "props['epsilon'] = 0\n",
      "compute_and_plot(ax[0], time, T_high, props, \"Particle STD\")\n",
      "for e in [0.1, 0.01]:\n",
      "    props['epsilon'] = e\n",
      "    compute_and_plot(ax[0], time, T_high, props, \"epsilon={}\".format(e), exp=False)\n",
      "    \n",
      "props['particle diameter'] = 75e-6\n",
      "props['epsilon'] = 0\n",
      "compute_and_plot(ax[1], time, T_high, props, \"Particle STD\")\n",
      "for d in [100e-6, 150e-6]:\n",
      "    props['particle diameter'] = d\n",
      "    compute_and_plot(ax[1], time, T_high, props, \"d={} m\".format(d), exp=False)"
     ],
     "language": "python",
     "metadata": {},
     "outputs": [
      {
       "metadata": {},
       "output_type": "display_data",
       "png": "[encoded data removed]",
       "text": [
        "<matplotlib.figure.Figure at 0x7fb24bafc110>"
       ]
      }
     ],
     "prompt_number": 34
    },
    {
     "cell_type": "markdown",
     "metadata": {},
     "source": [
      "**TODO:** Check influence of different particle temperature profiles on CPD results"
     ]
    },
    {
     "cell_type": "code",
     "collapsed": false,
     "input": [
      "Times, Temps = computeParticleTemperature(props_orig, time, T_high)\n",
      "input_dict['OperatingConditions'] = {'run0': zip(Times, Temps)[0:-1:40], 'pressure': 1.0, 'runs': 1}"
     ],
     "language": "python",
     "metadata": {},
     "outputs": [],
     "prompt_number": 35
    },
    {
     "cell_type": "markdown",
     "metadata": {},
     "source": [
      "# 4. Execution of the CPD Preprocessor\n",
      "\n",
      "Based on the ultimate and proximate analysis and the [NMR PARAMETER CALCULATOR](http://www.et.byu.edu/~tom/cpd/correlation.html)  the CPD preprocessor is started"
     ]
    },
    {
     "cell_type": "code",
     "collapsed": false,
     "input": [
      "cpd = pkp.generate(json_string=input_dict)\n",
      "#res = [(species_name, data) for species_name, data in cpd['run0'][1].iterspecies()]\n",
      "print \"Qfactor: \", cpd['run0'][1].qFactor"
     ],
     "language": "python",
     "metadata": {},
     "outputs": [
      {
       "output_type": "stream",
       "stream": "stdout",
       "text": [
        "Qfactor:  1.27133663366\n"
       ]
      }
     ],
     "prompt_number": 36
    },
    {
     "cell_type": "markdown",
     "metadata": {},
     "source": [
      "The figure below shows the mass fractions of the released volatile matter (upper) and the corresponding release rates (lower) over time."
     ]
    },
    {
     "cell_type": "code",
     "collapsed": false,
     "input": [
      "cpd['run0'][1].timesteps = 50\n",
      "plot_cpd(cpd)"
     ],
     "language": "python",
     "metadata": {},
     "outputs": [
      {
       "metadata": {},
       "output_type": "display_data",
       "png": "[encoded data removed]",
       "text": [
        "<matplotlib.figure.Figure at 0x7fb24b53dfd0>"
       ]
      }
     ],
     "prompt_number": 37
    },
    {
     "cell_type": "markdown",
     "metadata": {},
     "source": [
      "At this point we have the released massfraction for the light gases (CO, CO2, CH4, H2O). Combined with *fother* they add up to *fgas*. Hence *fother* is an unspecified light gas.  Adding *fgas* and *ftar* results in *ftot*. "
     ]
    },
    {
     "cell_type": "markdown",
     "metadata": {},
     "source": [
      "# 5. Selection of the Volatile Species\n",
      "\n",
      "Even though CPD predicts the release for a number of species, typically the CPD results are mapped to a different set of volatile species for a CFD simulation, where common choices are the postulate substance approach or a mixture of prescribed species. \n",
      "\n",
      "The postulate substance approach reduces the number of additional volatile species to a single species. As consequence the computational costs are comparatively small. A drawback of  using a single postulate substance is that no detailed chemistry mechanism can be used. \n",
      "\n",
      "The second approach is to map either the full volatile yield from the CPD result to a set of prescribed species (i.e. CH4, CO2, C2H2, etc.) or to map only the yield of *TAR* and *OTHER*. Independently from the chosen approach the mapped volatile yield should have the same elementary composition as the CPD result and should additionally be conservative in the heat release. \n",
      "\n",
      "Equation \\ref{complete_fit} shows the mass balance for the prescribed species f_{species}' \n",
      " \n",
      "\\begin{align}\n",
      "f_{tot} = \\sum_{species} f_{species}'\n",
      "\\label{complete_fit}\n",
      "\\end{align}\n",
      "\n",
      "or if only the unknown species *TAR* and *OTHER* are to be mapped Eq. \\ref{partial_fit} can be used\n",
      "\n",
      "\\begin{align}\n",
      "f_{tar} + f_{other} = \\sum_{species} f_{species}'\n",
      "\\label{partial_fit}\n",
      "\\end{align}"
     ]
    },
    {
     "cell_type": "markdown",
     "metadata": {},
     "source": [
      "To compute the massfractions of the prescribed species $f_{species}'$ we demand that the elementary composition given by the CPD result is conserved.\n",
      "\n",
      "\\begin{align}\n",
      "\\sum_i f_{i} = \\sum_i \\sum_{species} f_{species}' \\nu MW_i/MW_{species}\n",
      "\\label{CompositionalBalanceEquation}\n",
      "\\end{align}\n",
      "\n",
      "where $i$ is the index of the individual elements, namely carbon, oxygen, hydrogen and nitrogen obtained from the preprocessor result. \n",
      "The set of algebraic equations in Eqn. \\ref{CompositionalBalanceEquation} is not guaranteed to be solveable and poses a typical optimisation problem."
     ]
    },
    {
     "cell_type": "markdown",
     "metadata": {},
     "source": [
      "### Definition of the Error Function for the Optimisation Procedure\n",
      "\n",
      "To solve the optimisation problem from Eqn. \\ref{CompositionalBalanceEquation} we need to quantify the remaining error for a chosen solution. \n",
      "\n",
      "\\begin{align}\n",
      " \\epsilon = \\sum_i \\left|\\left(f_i - f'_{i} \\right)  / f_i\\right|\n",
      "\\end{align}\n",
      "\n",
      "where $\\epsilon$ is the error, $f_i$ the target mass fraction of the element $i$ obtained by the CPD preprocessor and $f'_i$ \n",
      "\n",
      "\\begin{align} \n",
      "f_i' = \\sum_{species} f'_{species}\\nu MW_i/MW_{species}\n",
      "\\end{align}"
     ]
    },
    {
     "cell_type": "markdown",
     "metadata": {},
     "source": [
      "### Optimisation Results\n",
      "\n",
      "For the solution of the optimisation problem SLSQP has been chosen. As a first step we fit the complete volatile yield according to Eq. \\ref{complete_fit} to CO, CO2, H2O, CH4 and N2. And obtain the following massfractions"
     ]
    },
    {
     "cell_type": "code",
     "collapsed": false,
     "input": [
      "from pkp.src.CoalThermoPhysics import CO, OH, N2, H2, CO2, H2O, CH4, O2, C2H2, C2, Yield\n",
      "from scipy.optimize import brute, minimize, fmin, basinhopping\n",
      "\n",
      "species = [CO, CO2, H2O, CH4, N2]\n",
      "\n",
      "pyrol_yield = Yield(cpd['run0'][1], species)\n",
      "cons = ({'type': 'eq', 'fun': lambda x:  1 - sum(x)})\n",
      "init = [0.0] * len(species)\n",
      "\n",
      "optimizer = lambda: minimize(pyrol_yield.error_func, init, tol=0.001, bounds=[(0,1.0) for _ in init], constraints=cons).x\n",
      "\n",
      "res = pyrol_yield.fit_composition(optimizer)\n",
      "print res"
     ],
     "language": "python",
     "metadata": {},
     "outputs": [
      {
       "output_type": "stream",
       "stream": "stdout",
       "text": [
        "{'CH4': 0.25575969947929772, 'H2O': 0.32883813413244695, 'CO2': 0.10322865727277884, 'CO': 0.29468422379957726, 'N2': 0.017489285315899314}\n"
       ]
      }
     ],
     "prompt_number": 38
    },
    {
     "cell_type": "markdown",
     "metadata": {},
     "source": [
      "For validation purpose the optimised compostion is compared to the target composition from the CPD results. As shown in the figure below the optimised composition matches the target composition reasonably well."
     ]
    },
    {
     "cell_type": "code",
     "collapsed": false,
     "input": [
      "from pkp.src.CoalThermoPhysics import composition\n",
      "fit = composition(res)\n",
      "f, ax = subplots()\n",
      "\n",
      "plt_bar(f,ax, Yield(cpd['run0'][1], species).VolatileCompositionMass, \"CPD\", 'x' )\n",
      "plt_bar(f,ax, fit, \"OPT\", '/' , 0.5)"
     ],
     "language": "python",
     "metadata": {},
     "outputs": [
      {
       "metadata": {},
       "output_type": "display_data",
       "png": "[encoded data removed]",
       "text": [
        "<matplotlib.figure.Figure at 0x7fb24a7662d0>"
       ]
      }
     ],
     "prompt_number": 39
    },
    {
     "cell_type": "markdown",
     "metadata": {},
     "source": [
      "# 6. Release Rate Fit"
     ]
    },
    {
     "cell_type": "code",
     "collapsed": false,
     "input": [
      "from pkp.src.Models import constantRate, arrheniusRate\n",
      "\n",
      "inp = {'constantRate': {'k': 1.0, 'tstart':0.0, 'finalYield':1.0,\n",
      "                        'tstartBounds': (0.0, 0.0), 'finalYieldBounds': (None, cpd['run0'][1]['ftot'][-1])},\n",
      "       'arrheniusRate': {'preExp': 1.0, 'beta':0.0, 'activationEnergy':1.0,\n",
      "                         'betaBounds':(0.0,0.0), 'lowerDevolTemp': 800.0\n",
      "                         }\n",
      "       }\n",
      "#constRate = constantRate(inp, [cpd.values()[0][1]], 'ftot')\n",
      "arrhRate = arrheniusRate(inp, [cpd.values()[0][1]], 'ftot')\n",
      "#yieldConstRate = constRate.fittedYield()\n",
      "yieldArrRate = arrhRate.fittedYield()#"
     ],
     "language": "python",
     "metadata": {},
     "outputs": [
      {
       "output_type": "stream",
       "stream": "stdout",
       "text": [
        "runs [<pkp.src.CPD.CPDResult object at 0x7fb24b62bf50>]\n",
        "Initialised ArrheniusRate Model\n",
        "initial parameter: [1.0, 0.0, 1.0]\n",
        "start gradient based optimization, species: ftot\n",
        "bounds [(None, None), (0.0, 0.0), (None, None)]\n"
       ]
      }
     ],
     "prompt_number": 40
    },
    {
     "cell_type": "code",
     "collapsed": false,
     "input": [
      "x = arrhRate.fit().x"
     ],
     "language": "python",
     "metadata": {},
     "outputs": [
      {
       "output_type": "stream",
       "stream": "stdout",
       "text": [
        "initial parameter: [1.0, 0.0, 1.0]\n",
        "start gradient based optimization, species: ftot\n",
        "bounds [(None, None), (0.0, 0.0), (None, None)]\n"
       ]
      }
     ],
     "prompt_number": 41
    },
    {
     "cell_type": "markdown",
     "metadata": {},
     "source": [
      "For the usage of the CPD data within CFD simulations the release rate of the yield has to be parameterised for the devolatilisation model of choice. Here the focus is on the Arrhenius rate devolatilisation model, where the change in yield is described as \n",
      "\n",
      "\\begin{align}\n",
      "\\frac{dm}{dt} = A T^{\\beta} exp\\left(-T_a/T\\right) m\n",
      "\\label{Arrhenius}\n",
      "\\end{align}\n",
      "\n",
      "where the pre exponentional factor $A$ and the activation Temperature $T_a$ are unknown. Usually $\\beta$ is set to zero. Equivalently to yield composition problem finding the unknown parameters of qn. \\ref{Arrhenius} poses an optimsation problem. The result of the optimisation procedure is shown in the table below."
     ]
    },
    {
     "cell_type": "code",
     "collapsed": false,
     "input": [
      "d = {'A': x[0], 'Ta': x[2], 'Minimum Devol. Temp.': inp['arrheniusRate']['lowerDevolTemp']}\n",
      "HTML(json2html.convert(json = d))"
     ],
     "language": "python",
     "metadata": {},
     "outputs": [
      {
       "html": [
        "<table border=\"1\"><tr><th>A</th><td>210.820519067</td></tr><tr><th>Minimum Devol. Temp.</th><td>800.0</td></tr><tr><th>Ta</th><td>-48.8724418732</td></tr></table>"
       ],
       "metadata": {},
       "output_type": "pyout",
       "prompt_number": 69,
       "text": [
        "<IPython.core.display.HTML at 0x7fb24a8a6a10>"
       ]
      }
     ],
     "prompt_number": 69
    },
    {
     "cell_type": "markdown",
     "metadata": {},
     "source": [
      "The figure below shows fitted the pyrolysis yield (blue) in comparisson to the CPD yield (green) "
     ]
    },
    {
     "cell_type": "code",
     "collapsed": false,
     "input": [
      "plt.figure()#figsize=(15,8))\n",
      "#plt.plot(cpd['run0'][1]['time'], yieldConstRate, label='CR')\n",
      "plt.plot(cpd['run0'][1]['time'], yieldArrRate, label='ARR')\n",
      "plt.plot(cpd['run0'][1]['time'], cpd['run0'][1]['ftot'], label='CPD')\n",
      "plt.legend(loc='lower right')\n",
      "plt.xlabel('Time [s]')\n",
      "plt.ylabel('Yield [-]')"
     ],
     "language": "python",
     "metadata": {},
     "outputs": [
      {
       "metadata": {},
       "output_type": "pyout",
       "prompt_number": 43,
       "text": [
        "<matplotlib.text.Text at 0x7fb24b53da10>"
       ]
      },
      {
       "metadata": {},
       "output_type": "display_data",
       "png": "[encoded data removed]",
       "text": [
        "<matplotlib.figure.Figure at 0x7fb24baf2c90>"
       ]
      }
     ],
     "prompt_number": 43
    },
    {
     "cell_type": "code",
     "collapsed": false,
     "input": [
      "#print pyrol_yield.pre.coal.hhv\n",
      "#print pyrol_yield.pre.coal.hhv_daf\n",
      "#print pyrol_yield.pre.coal.lhv_daf\n",
      "#from pkp.src.CoalThermoPhysics import enthalpy_balance\n",
      "\n",
      "#prod =  enthalpy_balance(pyrol_yield.ProductCompositionMass())\n",
      "#raw = enthalpy_balance(res)\n",
      "#print prod/100.0\n",
      "#print raw"
     ],
     "language": "python",
     "metadata": {},
     "outputs": [],
     "prompt_number": 44
    },
    {
     "cell_type": "markdown",
     "metadata": {},
     "source": [
      "# 8. Distribution of Enthalpies\n",
      "\n",
      "After fitting the pyrolysis yield to CO, CO2, H2O, CH4 and N2 energy conservation has to be ensured.\n",
      "\n",
      "$HHV_{daf} = HHV_{as-recieved}/(f_{FC}+f_{VM})$\n",
      "\n",
      "$LHV_{daf} = HHV_{daf} - h_{latent,H2O}\\frac{MW_O+2MW_H}{2MW_H}f_{UA,H}$\n",
      "\n",
      "$LHV_{raw} =  \\sum h_{products, raw} - \\sum h_{reactants, raw} + h_{devol}$\n",
      "\n",
      "\n",
      "\n",
      "$LHV_{daf} = \\gamma_{char} LHV_{char} + \\gamma_{yield} LHV_{yield}$\n",
      "\n",
      "$LHV_{yield} = \\sum h_{products} - \\sum h_{reactants} + h_{devol}$"
     ]
    },
    {
     "cell_type": "code",
     "collapsed": false,
     "input": [
      "#pyrol_yield.pre.coal.hhv\n",
      "#pyrol_yield.pre.coal.hhv_daf"
     ],
     "language": "python",
     "metadata": {},
     "outputs": [],
     "prompt_number": 45
    },
    {
     "cell_type": "markdown",
     "metadata": {},
     "source": [
      "# 9. Sensitivity Studies\n",
      "#### Influence of the Q-factor\n",
      "\n",
      "We assume that oxygen and hydrogen is fully consumed during pyrolysis and the remaining char consists only of carbon and ash. The ratio between the carbon in the volatile yield and the left over coal depends on the temperature profile during pyrolysis. Considering the CPD results we can estimate the ratio between released volatile yield $m_{VM}$ and the estimated volatile yield from the proximate analysis $m_{VM,PA}$\n",
      "\n",
      "\\begin{align}\n",
      "q = \\frac{m_{VM}}{m_{VM,PA}}\n",
      "\\label{qFactor}\n",
      "\\end{align}\n",
      "\n",
      "where $q$ is usually refered to as *q-factor*. Since the total mass of oxygen and hydrogen in the volatile yield is fixed the q-factor determines the amount of carbon in the volatile yield. The total mass of carbon $m_C$, which is constant is the the sum of the fixed carbon remaining as char $m_{FC}$ and the carbon released with the volatiles $m_{VC}$\n",
      "\n",
      "\\begin{align}\n",
      "m_C = m_{FC} + m_{VC}\n",
      "\\label{CarbonCompos}\n",
      "\\end{align}\n",
      "\n",
      "The volatile yield $m_{VM}$ from Eq. \\ref{qFactor} can be replace by the sum of components $m_{VM} = m_{VC} + m_O + m_H$ and $m_{VM,PA} = m_{VC,PA} + m_{O,PA} + m_{H,PA}$, where the subscripts *PA* denotes values based on the proximate analysis, resulting\n",
      "\n",
      "\\begin{align}\n",
      "m_{VC} + m_O + m_H = q\\left(m_{VC,PA} + m_{O,PA} + m_{H,PA}\\right)\n",
      "\\label{VolMatterVsProx}\n",
      "\\end{align}\n",
      "\n",
      "Equation \\ref{VolMatterVsProx} can be simplified since the mass of oxygen and hydrogen in the volatile matter is constant, hence $m_O = m_{O,PA}$ and $m_H = m_{H,PA}$ gives\n",
      "\n",
      "\\begin{align}\n",
      "m_{VC} = qm_{VC,PA} + (q-1)(m_{O,PA} + m_{H,PA})\n",
      "\\label{VolMatterVsProxSimplified}\n",
      "\\end{align}\n",
      "\n",
      "Equation \\ref{VolMatterVsProxSimplified} can be further simplified by replacing $m_{O,PA} + m_{H,PA}$ by $m_{VM,PA}-m_{VC,PA}$  and $m_{VC,PA}$ as $m_{C} - m_{FC,PA}$ giving\n",
      "\n",
      "\\begin{align}\n",
      "m_{VC}  = m_{C} - m_{FC,PA} + m_{VM,PA}(q-1)\n",
      "\\label{VolatileCarbonQ}\n",
      "\\end{align}\n",
      "\n",
      "Equation \\ref{VolatileCarbonQ} determines the carbon mass released through volatiles as a function of the q-factor."
     ]
    },
    {
     "cell_type": "markdown",
     "metadata": {},
     "source": [
      "### Results of q-factor depend mass distribution\n",
      "\n",
      "For the current parameter set the CPD coal pre-processor predicts a q-factor of"
     ]
    },
    {
     "cell_type": "code",
     "collapsed": false,
     "input": [
      "#print cpd['run0'][1].qFactor"
     ],
     "language": "python",
     "metadata": {},
     "outputs": [],
     "prompt_number": 46
    },
    {
     "cell_type": "markdown",
     "metadata": {},
     "source": [
      "Which gives the following elementary composition by mass for the volatile yield"
     ]
    },
    {
     "cell_type": "code",
     "collapsed": false,
     "input": [
      "from pkp.src.CoalThermoPhysics import PostulateSubstance, Coal\n",
      "from pkp.src.PreProc import ManualQfactor\n",
      "\n",
      "post_subs_cpd = PostulateSubstance(ManualQfactor(Coal(input_dict['Coal']), qFactor=cpd['run0'][1].qFactor))\n",
      "print post_subs_cpd.VolatileCompositionMass"
     ],
     "language": "python",
     "metadata": {},
     "outputs": [
      {
       "output_type": "stream",
       "stream": "stdout",
       "text": [
        "{'Carbon': 34.307162428578692, 'Hydrogen': 10.136580278082814, 'Nitrogen': 1.7544081250527945, 'Oxygen': 53.801849168285699}\n"
       ]
      }
     ],
     "prompt_number": 47
    },
    {
     "cell_type": "markdown",
     "metadata": {},
     "source": [
      "The composition of volatile matter based on the q-Factor from the CPD results is shown in comparisson to the composition based on a q-Factor of q=1.0."
     ]
    },
    {
     "cell_type": "code",
     "collapsed": false,
     "input": [
      "post_subs_pa = PostulateSubstance(ManualQfactor(Coal(input_dict['Coal']), qFactor=1.0))\n",
      "f, ax = subplots()\n",
      "plt_bar(f, ax, post_subs_cpd.VolatileCompositionMass, \"CPD\", 'x' )\n",
      "plt_bar(f, ax, post_subs_pa.VolatileCompositionMass, \"q=1.0\", '/', 0.5)"
     ],
     "language": "python",
     "metadata": {},
     "outputs": [
      {
       "metadata": {},
       "output_type": "display_data",
       "png": "[encoded data removed]",
       "text": [
        "<matplotlib.figure.Figure at 0x7fb24a7b7c90>"
       ]
      }
     ],
     "prompt_number": 48
    },
    {
     "cell_type": "markdown",
     "metadata": {},
     "source": [
      "The following figure demonstrates the depency of the final (when all volatiles have been released) volatile yield on the q-factor. It can be seen that increasing the q-factor leads to an increase in the Carbon content of the volatile yield, since the increase in the volatile yield can only originate from an increase in carbon content. Hence the mass fractions of hydrogen and oxygen decrease since the relative amount decreases."
     ]
    },
    {
     "cell_type": "code",
     "collapsed": false,
     "input": [
      "qsteps = 100\n",
      "qMax = 2.0\n",
      "deltaQ = (qMax-1.0)/float(qsteps)\n",
      "\n",
      "post_subs_q = [PostulateSubstance(ManualQfactor(Coal(input_dict['Coal']), qFactor=1+q*deltaQ)).VolatileCompositionMass \n",
      "               for q in range(qsteps)]\n",
      "\n",
      "for spec in ['Carbon', 'Hydrogen', 'Oxygen']:\n",
      "    q = [1+q*deltaQ for q in range(qsteps)]\n",
      "    elm = [_[spec] for _ in post_subs_q]\n",
      "    plt.plot(q, elm, label=spec.lower())\n",
      "    plt.xlabel('q-factor [-]')\n",
      "    plt.ylabel('Mass Fraction [%]')\n",
      "    plt.ylim([0,80])\n",
      "    plt.legend()"
     ],
     "language": "python",
     "metadata": {},
     "outputs": [
      {
       "metadata": {},
       "output_type": "display_data",
       "png": "[encoded data removed]",
       "text": [
        "<matplotlib.figure.Figure at 0x7fb24b78e890>"
       ]
      }
     ],
     "prompt_number": 49
    },
    {
     "cell_type": "markdown",
     "metadata": {},
     "source": [
      "###  Constant Temperature Devolatilisation\n",
      "\n",
      "To investigate the effects of the temperature at which the devolatilsation happens a number of CPD runs have been conducted for which the coal particle temperature was held at constant level during pyrolysis. The figure below shows that up to a temperature of approx. 1200K the q-factor stays below one. From 1200K to approx. 2000K the q-factor rises up to 1.45, where it remains constant for even higher temperatures."
     ]
    },
    {
     "cell_type": "code",
     "collapsed": false,
     "input": [
      "props = props_orig\n",
      "res = []\n",
      "q = []\n",
      "props['epsilon'] = 0\n",
      "tarratio = []\n",
      "gasratio = []\n",
      "innertratio = []\n",
      "Ts = [_*100.0 for _ in range(10,30)] \n",
      "for T in Ts:\n",
      "    Times, Temps = computeParticleTemperature(props, time, T_high, T_start=300, dt=1e-4)\n",
      "    input_dict['OperatingConditions'] = {'run0': [(0.0,T),(2.0,T)], 'pressure': 1.0, 'runs': 1}\n",
      "    cpd = pkp.generate(json_string=input_dict)\n",
      "    res.append(cpd)\n",
      "    q.append(cpd['run0'][1].qFactor)\n",
      "    tarratio.append(cpd['run0'][1]['ftar'][-1]/cpd['run0'][1]['ftot'][-1])\n",
      "    gasratio.append(cpd['run0'][1]['fgas'][-1]/cpd['run0'][1]['ftot'][-1])\n",
      "    innertratio.append((cpd['run0'][1]['fh20'][-1] + cpd['run0'][1]['fco2'][-1])/cpd['run0'][1]['fgas'][-1])"
     ],
     "language": "python",
     "metadata": {},
     "outputs": [],
     "prompt_number": 52
    },
    {
     "cell_type": "code",
     "collapsed": false,
     "input": [
      "plt.plot(Ts, q)\n",
      "plt.ylabel('q-factor [-]')\n",
      "plt.xlabel('Temperatur [K]')"
     ],
     "language": "python",
     "metadata": {},
     "outputs": [
      {
       "metadata": {},
       "output_type": "pyout",
       "prompt_number": 53,
       "text": [
        "<matplotlib.text.Text at 0x7fb24a766cd0>"
       ]
      },
      {
       "metadata": {},
       "output_type": "display_data",
       "png": "[encoded data removed]",
       "text": [
        "<matplotlib.figure.Figure at 0x7fb24a708d10>"
       ]
      }
     ],
     "prompt_number": 53
    },
    {
     "cell_type": "markdown",
     "metadata": {},
     "source": [
      "###  Dependency of q-Factor and Yield Composition on the Particle Response Times \n",
      "\n",
      "\n",
      "Neglecting any radiation influence we can reformulate Eqn. \\ref{ParticleTempEqn} and introduce the particle thermal response time as $\\tau_p = \\frac{\\rho_p d^2 c_p}{12\\lambda_g}$ with $Nu = 2$\n",
      "\n",
      "\n",
      "\\begin{align}\n",
      "\\frac{dT_p}{dt}=\\frac{-6Nu\\lambda_g}{c_p\\rho_pd^2_p} (T_p-T_g) = \\frac{1}{\\tau_p} (T_p-T_g)\n",
      "\\label{ParticleTempEqnII}\n",
      "\\end{align}\n",
      "\n",
      "A standard particle with the mentioned properties has a particle response time of"
     ]
    },
    {
     "cell_type": "code",
     "collapsed": false,
     "input": [
      "print \"tau_p\", particle_response_time(props)"
     ],
     "language": "python",
     "metadata": {},
     "outputs": [
      {
       "output_type": "stream",
       "stream": "stdout",
       "text": [
        "tau_p 0.00828048918582\n"
       ]
      }
     ],
     "prompt_number": 57
    },
    {
     "cell_type": "markdown",
     "metadata": {},
     "source": [
      "Assuming an uncertainty range for $\\rho_p, d_p, c_p$ and $\\lambda_g$ of 0.5, hence a value can be 50% above and below the taken mean value, results in the following possible range of $\\tau_p$ "
     ]
    },
    {
     "cell_type": "code",
     "collapsed": false,
     "input": [
      "min_ = 0.5 ** 5 * particle_response_time(props)\n",
      "max_ = 1.5 ** 5 * particle_response_time(props)\n",
      "print \"min \", min_\n",
      "print \"max \", max_\n",
      "print \"max/min \", max_/min_"
     ],
     "language": "python",
     "metadata": {},
     "outputs": [
      {
       "output_type": "stream",
       "stream": "stdout",
       "text": [
        "min  0.000258765287057\n",
        "max  0.0628799647548\n",
        "max/min  243.0\n"
       ]
      }
     ],
     "prompt_number": 58
    },
    {
     "cell_type": "markdown",
     "metadata": {},
     "source": [
      "Again a series of CPD computations is conducted for spanning the range of possible particle response times. The figure below displays the change in the q-Factor over the particle response times (left) and the ratio of *TAR*, *GAS* to the total yield. It can be seen that as heating rates decrease with increasing particle response times the q-Factor decreases. However the sensitivity of the q-Factor upon the heating rate is comparativly small. Additionally with larger particle response times the yield composition shifts slightly towards light gases, e.g. larger particles tend to emit more light gases for a constant maximum temperature. "
     ]
    },
    {
     "cell_type": "code",
     "collapsed": false,
     "input": [
      "ds = [_*1e-5 for _ in range(3,20)] "
     ],
     "language": "python",
     "metadata": {},
     "outputs": [],
     "prompt_number": 59
    },
    {
     "cell_type": "code",
     "collapsed": true,
     "input": [
      "props = props_orig\n",
      "res = []\n",
      "q = []\n",
      "props['epsilon'] = 0\n",
      "tarratio = []\n",
      "gasratio = []\n",
      "innertratio = []\n",
      "tau = []\n",
      "#ds = [20e-6, 30e-6, 40e-6, 50e-6, 60e-6, 70e-6, 80e-6, 90e-6, 100e-6, 110e-6, 120e-6, 130e-6, 140e-6, 150e-6]\n",
      "for d in ds:\n",
      "    props['particle diameter'] = d\n",
      "    Times, Temps = computeParticleTemperature(props, time, T_high, T_start=300, dt=1e-4)\n",
      "    input_dict['OperatingConditions'] = {'run0': zip(Times, Temps)[0:-80:38], 'pressure': 1.0, 'runs': 1}\n",
      "    cpd = pkp.generate(json_string=input_dict)\n",
      "    res.append(cpd)\n",
      "    tau.append(particle_response_time(props))\n",
      "    q.append(cpd['run0'][1].qFactor)\n",
      "    tarratio.append(cpd['run0'][1]['ftar'][-1]/cpd['run0'][1]['ftot'][-1])\n",
      "    gasratio.append(cpd['run0'][1]['fgas'][-1]/cpd['run0'][1]['ftot'][-1])\n",
      "    innertratio.append((cpd['run0'][1]['fh20'][-1] + cpd['run0'][1]['fco2'][-1])/cpd['run0'][1]['fgas'][-1])"
     ],
     "language": "python",
     "metadata": {},
     "outputs": [],
     "prompt_number": 60
    },
    {
     "cell_type": "code",
     "collapsed": false,
     "input": [
      "f, ax = plt.subplots(1,2)\n",
      "f.set_figwidth(15)\n",
      "ax[0].plot(tau, q)\n",
      "ax[0].get_yaxis().get_label().set_text('q-factor [-]')\n",
      "ax[0].get_xaxis().get_label().set_text('Particle Response Time [s]')\n",
      "tarr, = ax[1].plot(tau, tarratio)\n",
      "gasr, = ax[1].plot(tau, gasratio)\n",
      "plt.legend([tarr, gasr], ['tar/tot','gas/tot'], loc='center right')\n",
      "ax[1].get_yaxis().get_label().set_text('Yield Ratios [-]')\n",
      "ax[1].get_xaxis().get_label().set_text('Particle Response Time [s]')"
     ],
     "language": "python",
     "metadata": {},
     "outputs": [
      {
       "metadata": {},
       "output_type": "display_data",
       "png": "[encoded data removed]",
       "text": [
        "<matplotlib.figure.Figure at 0x7fb24a741090>"
       ]
      }
     ],
     "prompt_number": 61
    },
    {
     "cell_type": "markdown",
     "metadata": {},
     "source": [
      "# 10. References\n",
      "\n",
      " [Molina2007](http://www.sciencedirect.com/science/article/pii/S1540748906003658)\n",
      " \n",
      " [Shaddix2009](http://www.sciencedirect.com/science/article/pii/S1540748908002770)\n",
      " \n",
      " [Liu2011](http://www.sciencedirect.com/science/article/pii/S1750583611000880)\n",
      " \n",
      " [Vascellari2013](http://www.sciencedirect.com/science/article/pii/S154074891200260X)\n",
      " \n",
      " [Goshayeshi2014](http://www.sciencedirect.com/science/article/pii/S0010218014000157)\n",
      " "
     ]
    },
    {
     "cell_type": "markdown",
     "metadata": {},
     "source": [
      "[CPD INPUT](http://www.et.byu.edu/~tom/cpd/correlation.html)"
     ]
    },
    {
     "cell_type": "code",
     "collapsed": false,
     "input": [
      "%%HTML\n",
      "<table border=\"1\" style=\"width:100%\">\n",
      "  <tr>\n",
      "    <td>a</td>\n",
      "    <td>2</td>\n",
      "  </tr>\n",
      "  <tr>\n",
      "    <td>b</td>\n",
      "    <td>3</td>\n",
      "  </tr>\n",
      "</table>"
     ],
     "language": "python",
     "metadata": {},
     "outputs": []
    },
    {
     "cell_type": "code",
     "collapsed": false,
     "input": [
      "!pip install json2html --user\n"
     ],
     "language": "python",
     "metadata": {},
     "outputs": []
    },
    {
     "cell_type": "code",
     "collapsed": false,
     "input": [
      "import markdown\n",
      "class YourClass(str):\n",
      "    def _repr_html_(self):\n",
      "        return markdown.markdown(self)\n",
      "d = {'a': 2, 'b': 3}\n",
      "YourClass(\"%s\" % d)"
     ],
     "language": "python",
     "metadata": {},
     "outputs": []
    },
    {
     "cell_type": "code",
     "collapsed": false,
     "input": [
      "from json2html import *\n",
      "from IPython.display import HTML\n",
      "HTML(json2html.convert(json = {'name':'softvar','age':'22'}))"
     ],
     "language": "python",
     "metadata": {},
     "outputs": []
    },
    {
     "cell_type": "code",
     "collapsed": false,
     "input": [
      "import ma"
     ],
     "language": "python",
     "metadata": {},
     "outputs": []
    }
   ],
   "metadata": {}
  }
 ]
}